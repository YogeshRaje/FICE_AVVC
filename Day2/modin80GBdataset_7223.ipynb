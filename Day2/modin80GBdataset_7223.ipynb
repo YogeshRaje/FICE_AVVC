{
 "cells": [
  {
   "cell_type": "markdown",
   "id": "9f13cd9b-c709-4d26-8535-e677549c98e3",
   "metadata": {},
   "source": [
    "Modin Getting Started Example for Distributed Pandas\n",
    "Importing and Organizing Data\n",
    "In this example we will be generating a synthetic dataset and demonstrating stock Pandas operations running with Modin.\n",
    "\n",
    "Let's start by importing all the necessary packages and modules"
   ]
  },
  {
   "cell_type": "code",
   "execution_count": 3,
   "id": "3c81e019-75ed-4c79-b670-27d756af0f73",
   "metadata": {},
   "outputs": [],
   "source": [
    "import numpy as np\n",
    "import matplotlib.pyplot as plt\n",
    "import time"
   ]
  },
  {
   "cell_type": "code",
   "execution_count": 4,
   "id": "5bf0a1ae-af7c-4523-a1f5-1f4670ea9399",
   "metadata": {},
   "outputs": [],
   "source": [
    "# ****** Do not change the code in this cell! It verifies that the notebook is being run correctly! ******\n",
    "\n",
    "def verify_and_print_times(pandas_time, modin_time):\n",
    "    if modin_time < pandas_time:\n",
    "        print(f\"Modin was {pandas_time / modin_time:.2f}X faster than stock pandas!\")\n",
    "        return\n",
    "    print(\n",
    "        f\"Oops, stock pandas appears to be {modin_time / pandas_time:.2f}X faster than Modin in this case. \"\n",
    "        \"This is unlikely but could happen sometimes on certain machines/environments/datasets. \"\n",
    "        \"One of the most probable reasons is the excessive amount of partitions being assigned to a single worker. \"\n",
    "        \"You may visit Modin's optimization guide in order to learn more about such cases and how to fix them: \"\n",
    "        \"\\nhttps://modin.readthedocs.io/en/latest/usage_guide/optimization_notes/index.html\\n\\n\"\n",
    "        \"But first, verify that you're using the latest Modin version, also, try to use different executions, \"\n",
    "        \"for basic usage we recommend non-experimental 'PandasOnRay'.\\n\"\n",
    "        \"Current configuration is:\"\n",
    "    )\n",
    "    try:\n",
    "        from modin.utils import get_current_execution\n",
    "\n",
    "        execution = get_current_execution()\n",
    "    except ImportError:\n",
    "        # for modin version < 0.12.0\n",
    "        try:\n",
    "            from modin.utils import get_current_backend\n",
    "\n",
    "            execution = get_current_backend()\n",
    "        except ImportError:\n",
    "            # for modin versions < 0.8.1\n",
    "            execution = (\n",
    "                \"Can't deduce the current execution, your Modin version is too old!\"\n",
    "            )\n",
    "    print(f\"\\tExecution: {execution}\")\n",
    "    try:\n",
    "        import modin.config as cfg\n",
    "\n",
    "        print(\n",
    "            f\"\\tIs experimental: {cfg.IsExperimental.get()}\\n\"\n",
    "            f\"\\tNumber of CPUs to utilize by Modin (check that Modin uses all CPUs on your machine): {cfg.CpuCount.get()}\\n\"\n",
    "            f\"\\tIs in debug mode (debug mode may perform slower): {cfg.IsDebug.get()}\"\n",
    "        )\n",
    "    except (ImportError, AttributeError):\n",
    "        # for modin versions < 0.8.2\n",
    "        print(\"\\tCan't deduce Modin configuration, your Modin version is too old!\")\n",
    "    import modin\n",
    "\n",
    "    print(f\"\\tModin version: {modin.__version__}\")"
   ]
  },
  {
   "cell_type": "markdown",
   "id": "39d9f4f0-04eb-4820-96a9-82c1341ad5f9",
   "metadata": {},
   "source": [
    "How to Use Modin\n",
    "We will also be importing stock Pandas as pandas and Modin as pd to show differentiation. You can see importing Modin is simple and does not require any additional steps."
   ]
  },
  {
   "cell_type": "code",
   "execution_count": 4,
   "id": "cc109797-2336-48b0-b6e6-1b3f8ca7a8cb",
   "metadata": {},
   "outputs": [],
   "source": [
    "import pandas"
   ]
  },
  {
   "cell_type": "markdown",
   "id": "2b3ea4de-f549-4ee2-bfe9-430be42035be",
   "metadata": {},
   "source": [
    "As an example, let’s creates a 80GB DataFrame by appending together 40 different 2GB DataFrames."
   ]
  },
  {
   "cell_type": "code",
   "execution_count": 5,
   "id": "948ebc63-e356-4b89-9f00-b60601bec090",
   "metadata": {},
   "outputs": [
    {
     "ename": "MemoryError",
     "evalue": "Unable to allocate 80.0 GiB for an array with shape (256, 41943040) and data type int64",
     "output_type": "error",
     "traceback": [
      "\u001b[0;31m---------------------------------------------------------------------------\u001b[0m",
      "\u001b[0;31mMemoryError\u001b[0m                               Traceback (most recent call last)",
      "Cell \u001b[0;32mIn[5], line 1\u001b[0m\n\u001b[0;32m----> 1\u001b[0m df \u001b[38;5;241m=\u001b[39m \u001b[43mpandas\u001b[49m\u001b[38;5;241;43m.\u001b[39;49m\u001b[43mconcat\u001b[49m\u001b[43m(\u001b[49m\u001b[43m[\u001b[49m\u001b[43mpandas\u001b[49m\u001b[38;5;241;43m.\u001b[39;49m\u001b[43mDataFrame\u001b[49m\u001b[43m(\u001b[49m\u001b[43mnp\u001b[49m\u001b[38;5;241;43m.\u001b[39;49m\u001b[43mrandom\u001b[49m\u001b[38;5;241;43m.\u001b[39;49m\u001b[43mrandint\u001b[49m\u001b[43m(\u001b[49m\u001b[38;5;241;43m0\u001b[39;49m\u001b[43m,\u001b[49m\u001b[43m \u001b[49m\u001b[38;5;241;43m100\u001b[39;49m\u001b[43m,\u001b[49m\u001b[43m \u001b[49m\u001b[43msize\u001b[49m\u001b[38;5;241;43m=\u001b[39;49m\u001b[43m(\u001b[49m\u001b[38;5;241;43m2\u001b[39;49m\u001b[38;5;241;43m*\u001b[39;49m\u001b[38;5;241;43m*\u001b[39;49m\u001b[38;5;241;43m20\u001b[39;49m\u001b[43m,\u001b[49m\u001b[43m \u001b[49m\u001b[38;5;241;43m2\u001b[39;49m\u001b[38;5;241;43m*\u001b[39;49m\u001b[38;5;241;43m*\u001b[39;49m\u001b[38;5;241;43m8\u001b[39;49m\u001b[43m)\u001b[49m\u001b[43m)\u001b[49m\u001b[43m)\u001b[49m\u001b[43m \u001b[49m\u001b[38;5;28;43;01mfor\u001b[39;49;00m\u001b[43m \u001b[49m\u001b[43m_\u001b[49m\u001b[43m \u001b[49m\u001b[38;5;129;43;01min\u001b[39;49;00m\u001b[43m \u001b[49m\u001b[38;5;28;43mrange\u001b[39;49m\u001b[43m(\u001b[49m\u001b[38;5;241;43m40\u001b[39;49m\u001b[43m)\u001b[49m\u001b[43m]\u001b[49m\u001b[43m)\u001b[49m \u001b[38;5;66;03m# Memory Error!\u001b[39;00m\n",
      "File \u001b[0;32m~/.local/lib/python3.9/site-packages/pandas/util/_decorators.py:331\u001b[0m, in \u001b[0;36mdeprecate_nonkeyword_arguments.<locals>.decorate.<locals>.wrapper\u001b[0;34m(*args, **kwargs)\u001b[0m\n\u001b[1;32m    325\u001b[0m \u001b[38;5;28;01mif\u001b[39;00m \u001b[38;5;28mlen\u001b[39m(args) \u001b[38;5;241m>\u001b[39m num_allow_args:\n\u001b[1;32m    326\u001b[0m     warnings\u001b[38;5;241m.\u001b[39mwarn(\n\u001b[1;32m    327\u001b[0m         msg\u001b[38;5;241m.\u001b[39mformat(arguments\u001b[38;5;241m=\u001b[39m_format_argument_list(allow_args)),\n\u001b[1;32m    328\u001b[0m         \u001b[38;5;167;01mFutureWarning\u001b[39;00m,\n\u001b[1;32m    329\u001b[0m         stacklevel\u001b[38;5;241m=\u001b[39mfind_stack_level(),\n\u001b[1;32m    330\u001b[0m     )\n\u001b[0;32m--> 331\u001b[0m \u001b[38;5;28;01mreturn\u001b[39;00m \u001b[43mfunc\u001b[49m\u001b[43m(\u001b[49m\u001b[38;5;241;43m*\u001b[39;49m\u001b[43margs\u001b[49m\u001b[43m,\u001b[49m\u001b[43m \u001b[49m\u001b[38;5;241;43m*\u001b[39;49m\u001b[38;5;241;43m*\u001b[39;49m\u001b[43mkwargs\u001b[49m\u001b[43m)\u001b[49m\n",
      "File \u001b[0;32m~/.local/lib/python3.9/site-packages/pandas/core/reshape/concat.py:381\u001b[0m, in \u001b[0;36mconcat\u001b[0;34m(objs, axis, join, ignore_index, keys, levels, names, verify_integrity, sort, copy)\u001b[0m\n\u001b[1;32m    159\u001b[0m \u001b[38;5;124;03m\"\"\"\u001b[39;00m\n\u001b[1;32m    160\u001b[0m \u001b[38;5;124;03mConcatenate pandas objects along a particular axis.\u001b[39;00m\n\u001b[1;32m    161\u001b[0m \n\u001b[0;32m   (...)\u001b[0m\n\u001b[1;32m    366\u001b[0m \u001b[38;5;124;03m1   3   4\u001b[39;00m\n\u001b[1;32m    367\u001b[0m \u001b[38;5;124;03m\"\"\"\u001b[39;00m\n\u001b[1;32m    368\u001b[0m op \u001b[38;5;241m=\u001b[39m _Concatenator(\n\u001b[1;32m    369\u001b[0m     objs,\n\u001b[1;32m    370\u001b[0m     axis\u001b[38;5;241m=\u001b[39maxis,\n\u001b[0;32m   (...)\u001b[0m\n\u001b[1;32m    378\u001b[0m     sort\u001b[38;5;241m=\u001b[39msort,\n\u001b[1;32m    379\u001b[0m )\n\u001b[0;32m--> 381\u001b[0m \u001b[38;5;28;01mreturn\u001b[39;00m \u001b[43mop\u001b[49m\u001b[38;5;241;43m.\u001b[39;49m\u001b[43mget_result\u001b[49m\u001b[43m(\u001b[49m\u001b[43m)\u001b[49m\n",
      "File \u001b[0;32m~/.local/lib/python3.9/site-packages/pandas/core/reshape/concat.py:616\u001b[0m, in \u001b[0;36m_Concatenator.get_result\u001b[0;34m(self)\u001b[0m\n\u001b[1;32m    612\u001b[0m             indexers[ax] \u001b[38;5;241m=\u001b[39m obj_labels\u001b[38;5;241m.\u001b[39mget_indexer(new_labels)\n\u001b[1;32m    614\u001b[0m     mgrs_indexers\u001b[38;5;241m.\u001b[39mappend((obj\u001b[38;5;241m.\u001b[39m_mgr, indexers))\n\u001b[0;32m--> 616\u001b[0m new_data \u001b[38;5;241m=\u001b[39m \u001b[43mconcatenate_managers\u001b[49m\u001b[43m(\u001b[49m\n\u001b[1;32m    617\u001b[0m \u001b[43m    \u001b[49m\u001b[43mmgrs_indexers\u001b[49m\u001b[43m,\u001b[49m\u001b[43m \u001b[49m\u001b[38;5;28;43mself\u001b[39;49m\u001b[38;5;241;43m.\u001b[39;49m\u001b[43mnew_axes\u001b[49m\u001b[43m,\u001b[49m\u001b[43m \u001b[49m\u001b[43mconcat_axis\u001b[49m\u001b[38;5;241;43m=\u001b[39;49m\u001b[38;5;28;43mself\u001b[39;49m\u001b[38;5;241;43m.\u001b[39;49m\u001b[43mbm_axis\u001b[49m\u001b[43m,\u001b[49m\u001b[43m \u001b[49m\u001b[43mcopy\u001b[49m\u001b[38;5;241;43m=\u001b[39;49m\u001b[38;5;28;43mself\u001b[39;49m\u001b[38;5;241;43m.\u001b[39;49m\u001b[43mcopy\u001b[49m\n\u001b[1;32m    618\u001b[0m \u001b[43m\u001b[49m\u001b[43m)\u001b[49m\n\u001b[1;32m    619\u001b[0m \u001b[38;5;28;01mif\u001b[39;00m \u001b[38;5;129;01mnot\u001b[39;00m \u001b[38;5;28mself\u001b[39m\u001b[38;5;241m.\u001b[39mcopy:\n\u001b[1;32m    620\u001b[0m     new_data\u001b[38;5;241m.\u001b[39m_consolidate_inplace()\n",
      "File \u001b[0;32m~/.local/lib/python3.9/site-packages/pandas/core/internals/concat.py:223\u001b[0m, in \u001b[0;36mconcatenate_managers\u001b[0;34m(mgrs_indexers, axes, concat_axis, copy)\u001b[0m\n\u001b[1;32m    217\u001b[0m vals \u001b[38;5;241m=\u001b[39m [ju\u001b[38;5;241m.\u001b[39mblock\u001b[38;5;241m.\u001b[39mvalues \u001b[38;5;28;01mfor\u001b[39;00m ju \u001b[38;5;129;01min\u001b[39;00m join_units]\n\u001b[1;32m    219\u001b[0m \u001b[38;5;28;01mif\u001b[39;00m \u001b[38;5;129;01mnot\u001b[39;00m blk\u001b[38;5;241m.\u001b[39mis_extension:\n\u001b[1;32m    220\u001b[0m     \u001b[38;5;66;03m# _is_uniform_join_units ensures a single dtype, so\u001b[39;00m\n\u001b[1;32m    221\u001b[0m     \u001b[38;5;66;03m#  we can use np.concatenate, which is more performant\u001b[39;00m\n\u001b[1;32m    222\u001b[0m     \u001b[38;5;66;03m#  than concat_compat\u001b[39;00m\n\u001b[0;32m--> 223\u001b[0m     values \u001b[38;5;241m=\u001b[39m \u001b[43mnp\u001b[49m\u001b[38;5;241;43m.\u001b[39;49m\u001b[43mconcatenate\u001b[49m\u001b[43m(\u001b[49m\u001b[43mvals\u001b[49m\u001b[43m,\u001b[49m\u001b[43m \u001b[49m\u001b[43maxis\u001b[49m\u001b[38;5;241;43m=\u001b[39;49m\u001b[38;5;241;43m1\u001b[39;49m\u001b[43m)\u001b[49m\n\u001b[1;32m    224\u001b[0m \u001b[38;5;28;01melse\u001b[39;00m:\n\u001b[1;32m    225\u001b[0m     \u001b[38;5;66;03m# TODO(EA2D): special-casing not needed with 2D EAs\u001b[39;00m\n\u001b[1;32m    226\u001b[0m     values \u001b[38;5;241m=\u001b[39m concat_compat(vals, axis\u001b[38;5;241m=\u001b[39m\u001b[38;5;241m1\u001b[39m)\n",
      "File \u001b[0;32m<__array_function__ internals>:180\u001b[0m, in \u001b[0;36mconcatenate\u001b[0;34m(*args, **kwargs)\u001b[0m\n",
      "\u001b[0;31mMemoryError\u001b[0m: Unable to allocate 80.0 GiB for an array with shape (256, 41943040) and data type int64"
     ]
    }
   ],
   "source": [
    "df = pandas.concat([pandas.DataFrame(np.random.randint(0, 100, size=(2**20, 2**8))) for _ in range(40)]) # Memory Error!"
   ]
  },
  {
   "cell_type": "markdown",
   "id": "f43851d6-b06b-4cc4-97cb-d7307550afe7",
   "metadata": {},
   "source": [
    "Operating on out-of-memory data with Modin In order to work with data that exceeds memory constraints, you can use Modin to handle these large datasets."
   ]
  },
  {
   "cell_type": "markdown",
   "id": "3a84fb86-1605-45f2-b302-892caae506ac",
   "metadata": {},
   "source": [
    "Note: Uncomment below cell if you run on Intel oneAPI DevCloud"
   ]
  },
  {
   "cell_type": "code",
   "execution_count": 6,
   "id": "ab77e0bb-3822-4bf8-9a7a-7430f87e3e8b",
   "metadata": {},
   "outputs": [
    {
     "name": "stderr",
     "output_type": "stream",
     "text": [
      "2023-01-05 16:15:51,220\tINFO worker.py:1509 -- Started a local Ray instance. View the dashboard at \u001b[1m\u001b[32m127.0.0.1:8265 \u001b[39m\u001b[22m\n",
      "2023-01-05 16:15:54,050\tWARNING worker.py:2025 -- `driver_object_store_memory` is deprecated and will be removed in the future.\n"
     ]
    },
    {
     "data": {
      "text/html": [
       "<div>\n",
       "    <div style=\"margin-left: 50px;display: flex;flex-direction: row;align-items: center\">\n",
       "        <h3 style=\"color: var(--jp-ui-font-color0)\">Ray</h3>\n",
       "        <svg version=\"1.1\" id=\"ray\" width=\"3em\" viewBox=\"0 0 144.5 144.6\" style=\"margin-left: 3em;margin-right: 3em\">\n",
       "            <g id=\"layer-1\">\n",
       "                <path fill=\"#00a2e9\" class=\"st0\" d=\"M97.3,77.2c-3.8-1.1-6.2,0.9-8.3,5.1c-3.5,6.8-9.9,9.9-17.4,9.6S58,88.1,54.8,81.2c-1.4-3-3-4-6.3-4.1\n",
       "                    c-5.6-0.1-9.9,0.1-13.1,6.4c-3.8,7.6-13.6,10.2-21.8,7.6C5.2,88.4-0.4,80.5,0,71.7c0.1-8.4,5.7-15.8,13.8-18.2\n",
       "                    c8.4-2.6,17.5,0.7,22.3,8c1.3,1.9,1.3,5.2,3.6,5.6c3.9,0.6,8,0.2,12,0.2c1.8,0,1.9-1.6,2.4-2.8c3.5-7.8,9.7-11.8,18-11.9\n",
       "                    c8.2-0.1,14.4,3.9,17.8,11.4c1.3,2.8,2.9,3.6,5.7,3.3c1-0.1,2,0.1,3,0c2.8-0.5,6.4,1.7,8.1-2.7s-2.3-5.5-4.1-7.5\n",
       "                    c-5.1-5.7-10.9-10.8-16.1-16.3C84,38,81.9,37.1,78,38.3C66.7,42,56.2,35.7,53,24.1C50.3,14,57.3,2.8,67.7,0.5\n",
       "                    C78.4-2,89,4.7,91.5,15.3c0.1,0.3,0.1,0.5,0.2,0.8c0.7,3.4,0.7,6.9-0.8,9.8c-1.7,3.2-0.8,5,1.5,7.2c6.7,6.5,13.3,13,19.8,19.7\n",
       "                    c1.8,1.8,3,2.1,5.5,1.2c9.1-3.4,17.9-0.6,23.4,7c4.8,6.9,4.6,16.1-0.4,22.9c-5.4,7.2-14.2,9.9-23.1,6.5c-2.3-0.9-3.5-0.6-5.1,1.1\n",
       "                    c-6.7,6.9-13.6,13.7-20.5,20.4c-1.8,1.8-2.5,3.2-1.4,5.9c3.5,8.7,0.3,18.6-7.7,23.6c-7.9,5-18.2,3.8-24.8-2.9\n",
       "                    c-6.4-6.4-7.4-16.2-2.5-24.3c4.9-7.8,14.5-11,23.1-7.8c3,1.1,4.7,0.5,6.9-1.7C91.7,98.4,98,92.3,104.2,86c1.6-1.6,4.1-2.7,2.6-6.2\n",
       "                    c-1.4-3.3-3.8-2.5-6.2-2.6C99.8,77.2,98.9,77.2,97.3,77.2z M72.1,29.7c5.5,0.1,9.9-4.3,10-9.8c0-0.1,0-0.2,0-0.3\n",
       "                    C81.8,14,77,9.8,71.5,10.2c-5,0.3-9,4.2-9.3,9.2c-0.2,5.5,4,10.1,9.5,10.3C71.8,29.7,72,29.7,72.1,29.7z M72.3,62.3\n",
       "                    c-5.4-0.1-9.9,4.2-10.1,9.7c0,0.2,0,0.3,0,0.5c0.2,5.4,4.5,9.7,9.9,10c5.1,0.1,9.9-4.7,10.1-9.8c0.2-5.5-4-10-9.5-10.3\n",
       "                    C72.6,62.3,72.4,62.3,72.3,62.3z M115,72.5c0.1,5.4,4.5,9.7,9.8,9.9c5.6-0.2,10-4.8,10-10.4c-0.2-5.4-4.6-9.7-10-9.7\n",
       "                    c-5.3-0.1-9.8,4.2-9.9,9.5C115,72.1,115,72.3,115,72.5z M19.5,62.3c-5.4,0.1-9.8,4.4-10,9.8c-0.1,5.1,5.2,10.4,10.2,10.3\n",
       "                    c5.6-0.2,10-4.9,9.8-10.5c-0.1-5.4-4.5-9.7-9.9-9.6C19.6,62.3,19.5,62.3,19.5,62.3z M71.8,134.6c5.9,0.2,10.3-3.9,10.4-9.6\n",
       "                    c0.5-5.5-3.6-10.4-9.1-10.8c-5.5-0.5-10.4,3.6-10.8,9.1c0,0.5,0,0.9,0,1.4c-0.2,5.3,4,9.8,9.3,10\n",
       "                    C71.6,134.6,71.7,134.6,71.8,134.6z\"/>\n",
       "            </g>\n",
       "        </svg>\n",
       "        <table>\n",
       "            <tr>\n",
       "                <td style=\"text-align: left\"><b>Python version:</b></td>\n",
       "                <td style=\"text-align: left\"><b>3.9.15</b></td>\n",
       "            </tr>\n",
       "            <tr>\n",
       "                <td style=\"text-align: left\"><b>Ray version:</b></td>\n",
       "                <td style=\"text-align: left\"><b> 2.0.1</b></td>\n",
       "            </tr>\n",
       "            <tr>\n",
       "    <td style=\"text-align: left\"><b>Dashboard:</b></td>\n",
       "    <td style=\"text-align: left\"><b><a href=\"http://127.0.0.1:8265\" target=\"_blank\">http://127.0.0.1:8265</a></b></td>\n",
       "</tr>\n",
       "\n",
       "        </table>\n",
       "    </div>\n",
       "</div>\n"
      ],
      "text/plain": [
       "RayContext(dashboard_url='127.0.0.1:8265', python_version='3.9.15', ray_version='2.0.1', ray_commit='03b6bc7b5a305877501110ec04710a9c57011479', address_info={'node_ip_address': '10.9.1.60', 'raylet_ip_address': '10.9.1.60', 'redis_address': None, 'object_store_address': '/home/u153371/tmp/ray/session_2023-01-05_16-15-46_611609_4129766/sockets/plasma_store', 'raylet_socket_name': '/home/u153371/tmp/ray/session_2023-01-05_16-15-46_611609_4129766/sockets/raylet', 'webui_url': '127.0.0.1:8265', 'session_dir': '/home/u153371/tmp/ray/session_2023-01-05_16-15-46_611609_4129766', 'metrics_export_port': 56328, 'gcs_address': '10.9.1.60:54518', 'address': '10.9.1.60:54518', 'dashboard_agent_listen_port': 52365, 'node_id': '0bf8f78167e43ad243d5b3eeed9b533ba94f563c34af45f13914f7df'})"
      ]
     },
     "execution_count": 6,
     "metadata": {},
     "output_type": "execute_result"
    }
   ],
   "source": [
    "import ray\n",
    "ray.shutdown()\n",
    "ray.init(_memory=16000 * 1024 * 1024, object_store_memory=500 * 1024 * 1024,_driver_object_store_memory=500 * 1024 * 1024)"
   ]
  },
  {
   "cell_type": "code",
   "execution_count": 7,
   "id": "6a61c15c-d6af-44bc-bb66-0fb327bb1ae1",
   "metadata": {},
   "outputs": [],
   "source": [
    "import modin.pandas as pd"
   ]
  },
  {
   "cell_type": "code",
   "execution_count": 8,
   "id": "0107fc0b-8a42-4167-bb10-46ea95d1c3e8",
   "metadata": {},
   "outputs": [
    {
     "name": "stderr",
     "output_type": "stream",
     "text": [
      "UserWarning: Distributing <class 'numpy.ndarray'> object. This may take some time.\n",
      "\u001b[2m\u001b[36m(raylet)\u001b[0m Spilled 2048 MiB, 194 objects, write throughput 101 MiB/s. Set RAY_verbose_spill_logs=0 to disable this message.\n",
      "\u001b[2m\u001b[36m(raylet)\u001b[0m Spilled 4096 MiB, 386 objects, write throughput 106 MiB/s.\n",
      "\u001b[2m\u001b[36m(raylet)\u001b[0m Spilled 8192 MiB, 770 objects, write throughput 108 MiB/s.\n",
      "\u001b[2m\u001b[36m(raylet)\u001b[0m Spilled 16384 MiB, 1538 objects, write throughput 109 MiB/s.\n",
      "\u001b[2m\u001b[36m(raylet)\u001b[0m Spilled 32769 MiB, 3074 objects, write throughput 109 MiB/s.\n",
      "\u001b[2m\u001b[36m(raylet)\u001b[0m Spilled 65539 MiB, 6146 objects, write throughput 110 MiB/s.\n",
      "UserWarning: Distributing <class 'int'> object. This may take some time.\n"
     ]
    },
    {
     "name": "stdout",
     "output_type": "stream",
     "text": [
      "<class 'modin.pandas.dataframe.DataFrame'>\n",
      "Int64Index: 41943040 entries, 0 to 1048575\n",
      "Columns: 256 entries, 0 to 255\n",
      "dtypes: int64(256)\n",
      "memory usage: 80.3 GB\n"
     ]
    }
   ],
   "source": [
    "df = pd.concat([pd.DataFrame(np.random.randint(0, 100, size=(2**20, 2**8))) for _ in range(40)]) # 40x2GB frames -- Working!\n",
    "df.info()"
   ]
  },
  {
   "cell_type": "code",
   "execution_count": null,
   "id": "bbc11008-e213-4768-82e2-c71c9856fbad",
   "metadata": {},
   "outputs": [],
   "source": [
    "df = pandas.concat([pandas.DataFrame(np.random.randint(0, 100, size=(2**20, 2**8))) for _ in range(40)]) # Memory Error!"
   ]
  },
  {
   "cell_type": "markdown",
   "id": "29359f71-b278-4d97-acf7-046eb69a1ff5",
   "metadata": {},
   "source": [
    "We will now generate a synthetic dataset using NumPy to use with Modin and save it to a CSV."
   ]
  },
  {
   "cell_type": "code",
   "execution_count": 6,
   "id": "1b16469b-d53b-4d89-b968-30128eaacc88",
   "metadata": {},
   "outputs": [],
   "source": [
    "array=np.random.randint(low=100,high=10000,size=(2**18,2**8))\n",
    "#array\n",
    "np.savetxt(\"foo.csv\", array, delimiter=\",\") #how to generate array"
   ]
  },
  {
   "cell_type": "markdown",
   "id": "3c6059d2-88e8-4630-9f80-84a068a31093",
   "metadata": {},
   "source": [
    "    Now we will convert the ndarray into a Pandas dataframe and display the first five rows. For stock pandas, the dataframe is being stored as pandas_df and for Modin, the same dataframe is being stored as modin_df. Let's try running the following cell with Pandas first."
   ]
  },
  {
   "cell_type": "code",
   "execution_count": 7,
   "id": "04acb3ad-4470-4c03-9cde-11f04bec71ef",
   "metadata": {},
   "outputs": [
    {
     "name": "stdout",
     "output_type": "stream",
     "text": [
      "CPU times: user 14.3 s, sys: 1.9 s, total: 16.2 s\n",
      "Wall time: 24.5 s\n"
     ]
    },
    {
     "data": {
      "text/html": [
       "<div>\n",
       "<style scoped>\n",
       "    .dataframe tbody tr th:only-of-type {\n",
       "        vertical-align: middle;\n",
       "    }\n",
       "\n",
       "    .dataframe tbody tr th {\n",
       "        vertical-align: top;\n",
       "    }\n",
       "\n",
       "    .dataframe thead th {\n",
       "        text-align: right;\n",
       "    }\n",
       "</style>\n",
       "<table border=\"1\" class=\"dataframe\">\n",
       "  <thead>\n",
       "    <tr style=\"text-align: right;\">\n",
       "      <th></th>\n",
       "      <th>col0</th>\n",
       "      <th>col1</th>\n",
       "      <th>col2</th>\n",
       "      <th>col3</th>\n",
       "      <th>col4</th>\n",
       "      <th>col5</th>\n",
       "      <th>col6</th>\n",
       "      <th>col7</th>\n",
       "      <th>col8</th>\n",
       "      <th>col9</th>\n",
       "      <th>...</th>\n",
       "      <th>col246</th>\n",
       "      <th>col247</th>\n",
       "      <th>col248</th>\n",
       "      <th>col249</th>\n",
       "      <th>col250</th>\n",
       "      <th>col251</th>\n",
       "      <th>col252</th>\n",
       "      <th>col253</th>\n",
       "      <th>col254</th>\n",
       "      <th>col255</th>\n",
       "    </tr>\n",
       "  </thead>\n",
       "  <tbody>\n",
       "    <tr>\n",
       "      <th>0</th>\n",
       "      <td>4767.0</td>\n",
       "      <td>3089.0</td>\n",
       "      <td>3548.0</td>\n",
       "      <td>6034.0</td>\n",
       "      <td>3363.0</td>\n",
       "      <td>8721.0</td>\n",
       "      <td>2693.0</td>\n",
       "      <td>3765.0</td>\n",
       "      <td>858.0</td>\n",
       "      <td>8001.0</td>\n",
       "      <td>...</td>\n",
       "      <td>9486.0</td>\n",
       "      <td>6973.0</td>\n",
       "      <td>4441.0</td>\n",
       "      <td>3176.0</td>\n",
       "      <td>1917.0</td>\n",
       "      <td>1647.0</td>\n",
       "      <td>9780.0</td>\n",
       "      <td>7457.0</td>\n",
       "      <td>1050.0</td>\n",
       "      <td>1461.0</td>\n",
       "    </tr>\n",
       "    <tr>\n",
       "      <th>1</th>\n",
       "      <td>2260.0</td>\n",
       "      <td>5244.0</td>\n",
       "      <td>6815.0</td>\n",
       "      <td>3067.0</td>\n",
       "      <td>3515.0</td>\n",
       "      <td>5022.0</td>\n",
       "      <td>8425.0</td>\n",
       "      <td>3568.0</td>\n",
       "      <td>5979.0</td>\n",
       "      <td>810.0</td>\n",
       "      <td>...</td>\n",
       "      <td>1116.0</td>\n",
       "      <td>7602.0</td>\n",
       "      <td>3253.0</td>\n",
       "      <td>2441.0</td>\n",
       "      <td>3473.0</td>\n",
       "      <td>5132.0</td>\n",
       "      <td>9582.0</td>\n",
       "      <td>7240.0</td>\n",
       "      <td>3147.0</td>\n",
       "      <td>5618.0</td>\n",
       "    </tr>\n",
       "    <tr>\n",
       "      <th>2</th>\n",
       "      <td>2701.0</td>\n",
       "      <td>7366.0</td>\n",
       "      <td>5409.0</td>\n",
       "      <td>8283.0</td>\n",
       "      <td>1926.0</td>\n",
       "      <td>162.0</td>\n",
       "      <td>3699.0</td>\n",
       "      <td>4806.0</td>\n",
       "      <td>1124.0</td>\n",
       "      <td>6092.0</td>\n",
       "      <td>...</td>\n",
       "      <td>8667.0</td>\n",
       "      <td>4262.0</td>\n",
       "      <td>7898.0</td>\n",
       "      <td>9214.0</td>\n",
       "      <td>7412.0</td>\n",
       "      <td>679.0</td>\n",
       "      <td>4907.0</td>\n",
       "      <td>208.0</td>\n",
       "      <td>3769.0</td>\n",
       "      <td>6365.0</td>\n",
       "    </tr>\n",
       "    <tr>\n",
       "      <th>3</th>\n",
       "      <td>8445.0</td>\n",
       "      <td>1539.0</td>\n",
       "      <td>4932.0</td>\n",
       "      <td>6434.0</td>\n",
       "      <td>5189.0</td>\n",
       "      <td>318.0</td>\n",
       "      <td>3689.0</td>\n",
       "      <td>108.0</td>\n",
       "      <td>1474.0</td>\n",
       "      <td>3929.0</td>\n",
       "      <td>...</td>\n",
       "      <td>6476.0</td>\n",
       "      <td>9837.0</td>\n",
       "      <td>2614.0</td>\n",
       "      <td>1222.0</td>\n",
       "      <td>8125.0</td>\n",
       "      <td>3755.0</td>\n",
       "      <td>9306.0</td>\n",
       "      <td>5468.0</td>\n",
       "      <td>9612.0</td>\n",
       "      <td>1975.0</td>\n",
       "    </tr>\n",
       "    <tr>\n",
       "      <th>4</th>\n",
       "      <td>7196.0</td>\n",
       "      <td>2649.0</td>\n",
       "      <td>8517.0</td>\n",
       "      <td>7852.0</td>\n",
       "      <td>195.0</td>\n",
       "      <td>561.0</td>\n",
       "      <td>5036.0</td>\n",
       "      <td>6279.0</td>\n",
       "      <td>9169.0</td>\n",
       "      <td>6055.0</td>\n",
       "      <td>...</td>\n",
       "      <td>9126.0</td>\n",
       "      <td>1743.0</td>\n",
       "      <td>4800.0</td>\n",
       "      <td>6538.0</td>\n",
       "      <td>4267.0</td>\n",
       "      <td>9586.0</td>\n",
       "      <td>6958.0</td>\n",
       "      <td>8678.0</td>\n",
       "      <td>2900.0</td>\n",
       "      <td>8944.0</td>\n",
       "    </tr>\n",
       "  </tbody>\n",
       "</table>\n",
       "<p>5 rows × 256 columns</p>\n",
       "</div>"
      ],
      "text/plain": [
       "     col0    col1    col2    col3    col4    col5    col6    col7    col8  \\\n",
       "0  4767.0  3089.0  3548.0  6034.0  3363.0  8721.0  2693.0  3765.0   858.0   \n",
       "1  2260.0  5244.0  6815.0  3067.0  3515.0  5022.0  8425.0  3568.0  5979.0   \n",
       "2  2701.0  7366.0  5409.0  8283.0  1926.0   162.0  3699.0  4806.0  1124.0   \n",
       "3  8445.0  1539.0  4932.0  6434.0  5189.0   318.0  3689.0   108.0  1474.0   \n",
       "4  7196.0  2649.0  8517.0  7852.0   195.0   561.0  5036.0  6279.0  9169.0   \n",
       "\n",
       "     col9  ...  col246  col247  col248  col249  col250  col251  col252  \\\n",
       "0  8001.0  ...  9486.0  6973.0  4441.0  3176.0  1917.0  1647.0  9780.0   \n",
       "1   810.0  ...  1116.0  7602.0  3253.0  2441.0  3473.0  5132.0  9582.0   \n",
       "2  6092.0  ...  8667.0  4262.0  7898.0  9214.0  7412.0   679.0  4907.0   \n",
       "3  3929.0  ...  6476.0  9837.0  2614.0  1222.0  8125.0  3755.0  9306.0   \n",
       "4  6055.0  ...  9126.0  1743.0  4800.0  6538.0  4267.0  9586.0  6958.0   \n",
       "\n",
       "   col253  col254  col255  \n",
       "0  7457.0  1050.0  1461.0  \n",
       "1  7240.0  3147.0  5618.0  \n",
       "2   208.0  3769.0  6365.0  \n",
       "3  5468.0  9612.0  1975.0  \n",
       "4  8678.0  2900.0  8944.0  \n",
       "\n",
       "[5 rows x 256 columns]"
      ]
     },
     "execution_count": 7,
     "metadata": {},
     "output_type": "execute_result"
    }
   ],
   "source": [
    "%%time\n",
    "pandas_df = pandas.read_csv(\"foo.csv\", names=[\"col{}\".format(i) for i in range(256)])\n",
    "pandas_df.head()"
   ]
  },
  {
   "cell_type": "markdown",
   "id": "ae3590b3-a82d-40e8-9424-fcac46c4f379",
   "metadata": {},
   "source": [
    "Now let's run the same code, but use Modin instead of stock Pandas.\n",
    "\n",
    "Note the speedup!"
   ]
  },
  {
   "cell_type": "code",
   "execution_count": 8,
   "id": "7995d030-5a3e-403b-bdb2-fdbc951b048b",
   "metadata": {},
   "outputs": [
    {
     "name": "stderr",
     "output_type": "stream",
     "text": [
      "UserWarning: When using a pre-initialized Ray cluster, please ensure that the runtime env sets environment variable __MODIN_AUTOIMPORT_PANDAS__ to 1\n"
     ]
    },
    {
     "name": "stdout",
     "output_type": "stream",
     "text": [
      "CPU times: user 1.02 s, sys: 562 ms, total: 1.58 s\n",
      "Wall time: 8.12 s\n"
     ]
    },
    {
     "data": {
      "text/html": [
       "<div>\n",
       "<style scoped>\n",
       "    .dataframe tbody tr th:only-of-type {\n",
       "        vertical-align: middle;\n",
       "    }\n",
       "\n",
       "    .dataframe tbody tr th {\n",
       "        vertical-align: top;\n",
       "    }\n",
       "\n",
       "    .dataframe thead th {\n",
       "        text-align: right;\n",
       "    }\n",
       "</style>\n",
       "<table border=\"1\" class=\"dataframe\">\n",
       "  <thead>\n",
       "    <tr style=\"text-align: right;\">\n",
       "      <th></th>\n",
       "      <th>col0</th>\n",
       "      <th>col1</th>\n",
       "      <th>col2</th>\n",
       "      <th>col3</th>\n",
       "      <th>col4</th>\n",
       "      <th>col5</th>\n",
       "      <th>col6</th>\n",
       "      <th>col7</th>\n",
       "      <th>col8</th>\n",
       "      <th>col9</th>\n",
       "      <th>...</th>\n",
       "      <th>col246</th>\n",
       "      <th>col247</th>\n",
       "      <th>col248</th>\n",
       "      <th>col249</th>\n",
       "      <th>col250</th>\n",
       "      <th>col251</th>\n",
       "      <th>col252</th>\n",
       "      <th>col253</th>\n",
       "      <th>col254</th>\n",
       "      <th>col255</th>\n",
       "    </tr>\n",
       "  </thead>\n",
       "  <tbody>\n",
       "    <tr>\n",
       "      <th>0</th>\n",
       "      <td>4767.0</td>\n",
       "      <td>3089.0</td>\n",
       "      <td>3548.0</td>\n",
       "      <td>6034.0</td>\n",
       "      <td>3363.0</td>\n",
       "      <td>8721.0</td>\n",
       "      <td>2693.0</td>\n",
       "      <td>3765.0</td>\n",
       "      <td>858.0</td>\n",
       "      <td>8001.0</td>\n",
       "      <td>...</td>\n",
       "      <td>9486.0</td>\n",
       "      <td>6973.0</td>\n",
       "      <td>4441.0</td>\n",
       "      <td>3176.0</td>\n",
       "      <td>1917.0</td>\n",
       "      <td>1647.0</td>\n",
       "      <td>9780.0</td>\n",
       "      <td>7457.0</td>\n",
       "      <td>1050.0</td>\n",
       "      <td>1461.0</td>\n",
       "    </tr>\n",
       "    <tr>\n",
       "      <th>1</th>\n",
       "      <td>2260.0</td>\n",
       "      <td>5244.0</td>\n",
       "      <td>6815.0</td>\n",
       "      <td>3067.0</td>\n",
       "      <td>3515.0</td>\n",
       "      <td>5022.0</td>\n",
       "      <td>8425.0</td>\n",
       "      <td>3568.0</td>\n",
       "      <td>5979.0</td>\n",
       "      <td>810.0</td>\n",
       "      <td>...</td>\n",
       "      <td>1116.0</td>\n",
       "      <td>7602.0</td>\n",
       "      <td>3253.0</td>\n",
       "      <td>2441.0</td>\n",
       "      <td>3473.0</td>\n",
       "      <td>5132.0</td>\n",
       "      <td>9582.0</td>\n",
       "      <td>7240.0</td>\n",
       "      <td>3147.0</td>\n",
       "      <td>5618.0</td>\n",
       "    </tr>\n",
       "    <tr>\n",
       "      <th>2</th>\n",
       "      <td>2701.0</td>\n",
       "      <td>7366.0</td>\n",
       "      <td>5409.0</td>\n",
       "      <td>8283.0</td>\n",
       "      <td>1926.0</td>\n",
       "      <td>162.0</td>\n",
       "      <td>3699.0</td>\n",
       "      <td>4806.0</td>\n",
       "      <td>1124.0</td>\n",
       "      <td>6092.0</td>\n",
       "      <td>...</td>\n",
       "      <td>8667.0</td>\n",
       "      <td>4262.0</td>\n",
       "      <td>7898.0</td>\n",
       "      <td>9214.0</td>\n",
       "      <td>7412.0</td>\n",
       "      <td>679.0</td>\n",
       "      <td>4907.0</td>\n",
       "      <td>208.0</td>\n",
       "      <td>3769.0</td>\n",
       "      <td>6365.0</td>\n",
       "    </tr>\n",
       "    <tr>\n",
       "      <th>3</th>\n",
       "      <td>8445.0</td>\n",
       "      <td>1539.0</td>\n",
       "      <td>4932.0</td>\n",
       "      <td>6434.0</td>\n",
       "      <td>5189.0</td>\n",
       "      <td>318.0</td>\n",
       "      <td>3689.0</td>\n",
       "      <td>108.0</td>\n",
       "      <td>1474.0</td>\n",
       "      <td>3929.0</td>\n",
       "      <td>...</td>\n",
       "      <td>6476.0</td>\n",
       "      <td>9837.0</td>\n",
       "      <td>2614.0</td>\n",
       "      <td>1222.0</td>\n",
       "      <td>8125.0</td>\n",
       "      <td>3755.0</td>\n",
       "      <td>9306.0</td>\n",
       "      <td>5468.0</td>\n",
       "      <td>9612.0</td>\n",
       "      <td>1975.0</td>\n",
       "    </tr>\n",
       "    <tr>\n",
       "      <th>4</th>\n",
       "      <td>7196.0</td>\n",
       "      <td>2649.0</td>\n",
       "      <td>8517.0</td>\n",
       "      <td>7852.0</td>\n",
       "      <td>195.0</td>\n",
       "      <td>561.0</td>\n",
       "      <td>5036.0</td>\n",
       "      <td>6279.0</td>\n",
       "      <td>9169.0</td>\n",
       "      <td>6055.0</td>\n",
       "      <td>...</td>\n",
       "      <td>9126.0</td>\n",
       "      <td>1743.0</td>\n",
       "      <td>4800.0</td>\n",
       "      <td>6538.0</td>\n",
       "      <td>4267.0</td>\n",
       "      <td>9586.0</td>\n",
       "      <td>6958.0</td>\n",
       "      <td>8678.0</td>\n",
       "      <td>2900.0</td>\n",
       "      <td>8944.0</td>\n",
       "    </tr>\n",
       "  </tbody>\n",
       "</table>\n",
       "<p>5 rows x 256 columns</p>\n",
       "</div>"
      ],
      "text/plain": [
       "     col0    col1    col2    col3    col4    col5    col6    col7    col8  \\\n",
       "0  4767.0  3089.0  3548.0  6034.0  3363.0  8721.0  2693.0  3765.0   858.0   \n",
       "1  2260.0  5244.0  6815.0  3067.0  3515.0  5022.0  8425.0  3568.0  5979.0   \n",
       "2  2701.0  7366.0  5409.0  8283.0  1926.0   162.0  3699.0  4806.0  1124.0   \n",
       "3  8445.0  1539.0  4932.0  6434.0  5189.0   318.0  3689.0   108.0  1474.0   \n",
       "4  7196.0  2649.0  8517.0  7852.0   195.0   561.0  5036.0  6279.0  9169.0   \n",
       "\n",
       "     col9  ...  col246  col247  col248  col249  col250  col251  col252  \\\n",
       "0  8001.0  ...  9486.0  6973.0  4441.0  3176.0  1917.0  1647.0  9780.0   \n",
       "1   810.0  ...  1116.0  7602.0  3253.0  2441.0  3473.0  5132.0  9582.0   \n",
       "2  6092.0  ...  8667.0  4262.0  7898.0  9214.0  7412.0   679.0  4907.0   \n",
       "3  3929.0  ...  6476.0  9837.0  2614.0  1222.0  8125.0  3755.0  9306.0   \n",
       "4  6055.0  ...  9126.0  1743.0  4800.0  6538.0  4267.0  9586.0  6958.0   \n",
       "\n",
       "   col253  col254  col255  \n",
       "0  7457.0  1050.0  1461.0  \n",
       "1  7240.0  3147.0  5618.0  \n",
       "2   208.0  3769.0  6365.0  \n",
       "3  5468.0  9612.0  1975.0  \n",
       "4  8678.0  2900.0  8944.0  \n",
       "\n",
       "[5 rows x 256 columns]"
      ]
     },
     "execution_count": 8,
     "metadata": {},
     "output_type": "execute_result"
    }
   ],
   "source": [
    "%%time\n",
    "modin_df=pd.read_csv(\"foo.csv\", names=[\"col{}\".format(i) for i in range(256)])\n",
    "modin_df.head()"
   ]
  },
  {
   "cell_type": "markdown",
   "id": "e931c1ff-be51-4a8d-a3be-18d61d36e915",
   "metadata": {},
   "source": [
    "Let's now visualize this speedup from Modin with a plot!"
   ]
  },
  {
   "cell_type": "code",
   "execution_count": 9,
   "id": "214a6c7e-4f3d-46cf-8621-719a233f5c1f",
   "metadata": {},
   "outputs": [],
   "source": [
    "def plotter(outputdict):\n",
    "    fig = plt.figure(figsize = (10, 5)) \n",
    "    plt.bar(outputdict.keys(),outputdict.values(),color='blue',width=0.4)\n",
    "    plt.xlabel(\"Python Package\")\n",
    "    plt.ylabel(\"Runtime(seconds)\")\n",
    "    plt.show()"
   ]
  },
  {
   "cell_type": "code",
   "execution_count": 10,
   "id": "a46cf0a4-03cb-4104-8767-f92456cc388a",
   "metadata": {},
   "outputs": [
    {
     "name": "stdout",
     "output_type": "stream",
     "text": [
      "Pandas Time(seconds): 11.247676849365234 \n",
      "Modin Time(seconds): 3.129828453063965\n",
      "Modin was 3.59X faster than stock pandas!\n"
     ]
    },
    {
     "data": {
      "image/png": "[encoded data removed]",
      "text/plain": [
       "<Figure size 1000x500 with 1 Axes>"
      ]
     },
     "metadata": {},
     "output_type": "display_data"
    }
   ],
   "source": [
    "t0 = time.time()\n",
    "pandas_df = pandas.read_csv(\"foo.csv\", names=[\"col{}\".format(i) for i in range(256)])\n",
    "pandas_time = time.time()- t0\n",
    "\n",
    "t1 = time.time()\n",
    "modin_df = pd.read_csv(\"foo.csv\", names=[\"col{}\".format(i) for i in range(256)])\n",
    "modin_time = time.time() - t1\n",
    "\n",
    "print(\"Pandas Time(seconds):\",pandas_time,\"\\nModin Time(seconds):\",modin_time)\n",
    "verify_and_print_times(pandas_time, modin_time)\n",
    "outputDict={\"Pandas\":pandas_time,\"Modin\":modin_time}\n",
    "plotter(outputDict)"
   ]
  },
  {
   "cell_type": "markdown",
   "id": "3c3c69cf-9588-4ded-9331-f769baaccbbb",
   "metadata": {},
   "source": [
    "Other DataFrame Function Performance Example\n",
    "We will now show the speedup in performance from Modin compared to stock Pandas with a few common functions.\n",
    "\n",
    "Like before, pandas_df is for stock Pandas, modin_df is for Modin.\n",
    "\n",
    "df.mean()"
   ]
  },
  {
   "cell_type": "code",
   "execution_count": 11,
   "id": "c9e925d7-de66-4138-9d89-499969395ba8",
   "metadata": {},
   "outputs": [
    {
     "name": "stdout",
     "output_type": "stream",
     "text": [
      " stock Pandas wall time for completion in seconds: 0.2341015338897705\n"
     ]
    }
   ],
   "source": [
    "# Mean\n",
    "t2 = time.time()\n",
    "pandas_df.mean(axis=0)\n",
    "pandas_time=time.time()- t2\n",
    "print(\" stock Pandas wall time for completion in seconds:\",pandas_time)"
   ]
  },
  {
   "cell_type": "code",
   "execution_count": 12,
   "id": "ce815898-1dbb-4e81-ad7c-dd4324345009",
   "metadata": {},
   "outputs": [
    {
     "name": "stdout",
     "output_type": "stream",
     "text": [
      "Modin wall time for completion in seconds: 0.09839177131652832\n"
     ]
    }
   ],
   "source": [
    "# Mean\n",
    "t3 = time.time()\n",
    "modin_df.mean(axis=0)\n",
    "modin_time=time.time()- t3\n",
    "print(\"Modin wall time for completion in seconds:\",modin_time)"
   ]
  },
  {
   "cell_type": "code",
   "execution_count": 13,
   "id": "a0b4e701-1eb7-4509-89b8-4580fe9cf607",
   "metadata": {},
   "outputs": [
    {
     "name": "stdout",
     "output_type": "stream",
     "text": [
      "Modin was 2.38X faster than stock pandas!\n"
     ]
    }
   ],
   "source": [
    "verify_and_print_times(pandas_time, modin_time)"
   ]
  },
  {
   "cell_type": "code",
   "execution_count": null,
   "id": "9fb45703-7f4d-4ce8-ad57-33478ff5882d",
   "metadata": {},
   "outputs": [],
   "source": []
  }
 ],
 "metadata": {
  "kernelspec": {
   "display_name": "Python 3 (ipykernel)",
   "language": "python",
   "name": "python3"
  },
  "language_info": {
   "codemirror_mode": {
    "name": "ipython",
    "version": 3
   },
   "file_extension": ".py",
   "mimetype": "text/x-python",
   "name": "python",
   "nbconvert_exporter": "python",
   "pygments_lexer": "ipython3",
   "version": "3.9.12"
  }
 },
 "nbformat": 4,
 "nbformat_minor": 5
}
