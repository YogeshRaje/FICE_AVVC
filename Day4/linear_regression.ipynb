{
 "cells": [
  {
   "cell_type": "markdown",
   "id": "3768ec43",
   "metadata": {},
   "source": [
    "# Intel® Extension for Scikit-learn Linear Regression for YearPredictionMSD dataset"
   ]
  },
  {
   "cell_type": "code",
   "execution_count": 1,
   "id": "b1b922d1",
   "metadata": {},
   "outputs": [],
   "source": [
    "from timeit import default_timer as timer\n",
    "from sklearn import metrics\n",
    "from sklearn.model_selection import train_test_split\n",
    "import pandas as pd\n",
    "import numpy as np\n",
    "import os\n",
    "import requests\n",
    "import warnings\n",
    "from IPython.display import HTML\n",
    "warnings.filterwarnings('ignore')"
   ]
  },
  {
   "cell_type": "markdown",
   "id": "ad7ce109",
   "metadata": {},
   "source": [
    "### Download the data"
   ]
  },
  {
   "cell_type": "code",
   "execution_count": 2,
   "id": "801ea6cd",
   "metadata": {},
   "outputs": [],
   "source": [
    "dataset_dir = 'data'\n",
    "dataset_name = 'year_prediction_msd'\n",
    "url = 'https://archive.ics.uci.edu/ml/machine-learning-databases/00203/YearPredictionMSD.txt.zip'\n",
    "\n",
    "os.makedirs(dataset_dir, exist_ok=True)\n",
    "local_url = os.path.join(dataset_dir, os.path.basename(url))\n",
    "\n",
    "if not os.path.isfile(local_url):\n",
    "    response = requests.get(url, stream=True)\n",
    "    with open(local_url, 'wb+') as file:\n",
    "        for data in response.iter_content(8192):\n",
    "            file.write(data)\n",
    "    \n",
    "year = pd.read_csv(local_url, header=None)\n",
    "x = year.iloc[:, 1:].to_numpy(dtype=np.float32)\n",
    "y = year.iloc[:, 0].to_numpy(dtype=np.float32)"
   ]
  },
  {
   "cell_type": "code",
   "execution_count": 14,
   "id": "4659cdac",
   "metadata": {},
   "outputs": [],
   "source": [
    "year.to_csv('file1.csv')"
   ]
  },
  {
   "cell_type": "markdown",
   "id": "03431aec",
   "metadata": {},
   "source": [
    "Split the data into train and test sets"
   ]
  },
  {
   "cell_type": "code",
   "execution_count": 3,
   "id": "0d332789",
   "metadata": {},
   "outputs": [
    {
     "data": {
      "text/plain": [
       "((463810, 90), (51535, 90), (463810,), (51535,))"
      ]
     },
     "execution_count": 3,
     "metadata": {},
     "output_type": "execute_result"
    }
   ],
   "source": [
    "x_train, x_test, y_train, y_test = train_test_split(x, y, test_size=0.1, random_state=0)\n",
    "x_train.shape, x_test.shape, y_train.shape, y_test.shape"
   ]
  },
  {
   "cell_type": "markdown",
   "id": "246f819f",
   "metadata": {},
   "source": [
    "### Normalize the data"
   ]
  },
  {
   "cell_type": "code",
   "execution_count": 4,
   "id": "454a341c",
   "metadata": {},
   "outputs": [],
   "source": [
    "from sklearn.preprocessing import MinMaxScaler, StandardScaler\n",
    "scaler_x = MinMaxScaler()\n",
    "scaler_y = StandardScaler()"
   ]
  },
  {
   "cell_type": "code",
   "execution_count": 5,
   "id": "df400504",
   "metadata": {},
   "outputs": [],
   "source": [
    "scaler_x.fit(x_train)\n",
    "x_train = scaler_x.transform(x_train)\n",
    "x_test = scaler_x.transform(x_test)\n",
    "\n",
    "scaler_y.fit(y_train.reshape(-1, 1))\n",
    "y_train = scaler_y.transform(y_train.reshape(-1, 1)).ravel()\n",
    "y_test = scaler_y.transform(y_test.reshape(-1, 1)).ravel()"
   ]
  },
  {
   "cell_type": "markdown",
   "id": "fe1d4fac",
   "metadata": {},
   "source": [
    "### Patch original Scikit-learn with Intel® Extension for Scikit-learn\n",
    "Intel® Extension for Scikit-learn (previously known as daal4py) contains drop-in replacement functionality for the stock Scikit-learn package. You can take advantage of the performance optimizations of Intel® Extension for Scikit-learn by adding just two lines of code before the usual Scikit-learn imports:"
   ]
  },
  {
   "cell_type": "code",
   "execution_count": 6,
   "id": "ef6938df",
   "metadata": {},
   "outputs": [
    {
     "name": "stderr",
     "output_type": "stream",
     "text": [
      "Intel(R) Extension for Scikit-learn* enabled (https://github.com/intel/scikit-learn-intelex)\n"
     ]
    }
   ],
   "source": [
    "from sklearnex import patch_sklearn\n",
    "patch_sklearn()"
   ]
  },
  {
   "cell_type": "markdown",
   "id": "20c5ab48",
   "metadata": {},
   "source": [
    "Intel® Extension for Scikit-learn patching affects performance of specific Scikit-learn functionality. Refer to the [list of supported algorithms and parameters](https://intel.github.io/scikit-learn-intelex/algorithms.html) for details. In cases when unsupported parameters are used, the package fallbacks into original Scikit-learn. If the patching does not cover your scenarios, [submit an issue on GitHub](https://github.com/intel/scikit-learn-intelex/issues)."
   ]
  },
  {
   "cell_type": "markdown",
   "id": "f80273e7",
   "metadata": {},
   "source": [
    "Training of the Linear Regression algorithm with Intel® Extension for Scikit-learn for YearPredictionMSD dataset"
   ]
  },
  {
   "cell_type": "code",
   "execution_count": 7,
   "id": "a4dd1c7e",
   "metadata": {},
   "outputs": [
    {
     "data": {
      "text/plain": [
       "'Intel® extension for Scikit-learn time: 2.02 s'"
      ]
     },
     "execution_count": 7,
     "metadata": {},
     "output_type": "execute_result"
    }
   ],
   "source": [
    "from sklearn.linear_model import LinearRegression\n",
    "\n",
    "params = {\n",
    "    \"n_jobs\": -1,\n",
    "    \"copy_X\": False\n",
    "}\n",
    "start = timer()\n",
    "model = LinearRegression(**params).fit(x_train, y_train)\n",
    "train_patched = timer() - start\n",
    "f\"Intel® extension for Scikit-learn time: {train_patched:.2f} s\""
   ]
  },
  {
   "cell_type": "code",
   "execution_count": 8,
   "id": "d24c9583",
   "metadata": {},
   "outputs": [
    {
     "data": {
      "text/plain": [
       "'Intel® extension for Scikit-learn time: 0.18 s'"
      ]
     },
     "execution_count": 8,
     "metadata": {},
     "output_type": "execute_result"
    }
   ],
   "source": [
    "from sklearn.linear_model import LinearRegression\n",
    "\n",
    "params = {\n",
    "    \"n_jobs\": None,\n",
    "    \"copy_X\": False\n",
    "}\n",
    "start = timer()\n",
    "model = LinearRegression(**params).fit(x_train, y_train)\n",
    "train_patched = timer() - start\n",
    "f\"Intel® extension for Scikit-learn time: {train_patched:.2f} s\""
   ]
  },
  {
   "cell_type": "markdown",
   "id": "f10b51fc",
   "metadata": {},
   "source": [
    "Predict and get a result of the Linear Regression algorithm with Intel® Extension for Scikit-learn"
   ]
  },
  {
   "cell_type": "code",
   "execution_count": 9,
   "id": "d4295a26",
   "metadata": {},
   "outputs": [
    {
     "data": {
      "text/plain": [
       "'Patched Scikit-learn MSE: 0.7718408107757568'"
      ]
     },
     "execution_count": 9,
     "metadata": {},
     "output_type": "execute_result"
    }
   ],
   "source": [
    "y_predict = model.predict(x_test)\n",
    "mse_metric_opt = metrics.mean_squared_error(y_test, y_predict)\n",
    "f'Patched Scikit-learn MSE: {mse_metric_opt}'"
   ]
  },
  {
   "cell_type": "markdown",
   "id": "cbe6db0d",
   "metadata": {},
   "source": [
    "### Train the same algorithm with original Scikit-learn\n",
    "In order to cancel optimizations, we use *unpatch_sklearn* and reimport the class LinearRegression"
   ]
  },
  {
   "cell_type": "code",
   "execution_count": 10,
   "id": "6f64ba97",
   "metadata": {},
   "outputs": [],
   "source": [
    "from sklearnex import unpatch_sklearn\n",
    "unpatch_sklearn()"
   ]
  },
  {
   "cell_type": "markdown",
   "id": "f242c6da",
   "metadata": {},
   "source": [
    "Training of the Linear Regression algorithm with original Scikit-learn library for YearPredictionMSD dataset"
   ]
  },
  {
   "cell_type": "code",
   "execution_count": 11,
   "id": "67243849",
   "metadata": {},
   "outputs": [
    {
     "data": {
      "text/plain": [
       "'Original Scikit-learn time: 2.23 s'"
      ]
     },
     "execution_count": 11,
     "metadata": {},
     "output_type": "execute_result"
    }
   ],
   "source": [
    "from sklearn.linear_model import LinearRegression\n",
    "\n",
    "start = timer()\n",
    "model = LinearRegression(**params).fit(x_train, y_train)\n",
    "train_unpatched = timer() - start\n",
    "f\"Original Scikit-learn time: {train_unpatched:.2f} s\""
   ]
  },
  {
   "cell_type": "markdown",
   "id": "c85a125c",
   "metadata": {},
   "source": [
    "Predict and get a result of the Linear Regression algorithm with original Scikit-learn"
   ]
  },
  {
   "cell_type": "code",
   "execution_count": 12,
   "id": "cd9e726c",
   "metadata": {},
   "outputs": [
    {
     "data": {
      "text/plain": [
       "'Original Scikit-learn MSE: 0.7716856598854065'"
      ]
     },
     "execution_count": 12,
     "metadata": {},
     "output_type": "execute_result"
    }
   ],
   "source": [
    "y_predict = model.predict(x_test)\n",
    "mse_metric_original = metrics.mean_squared_error(y_test, y_predict)\n",
    "f'Original Scikit-learn MSE: {mse_metric_original}'"
   ]
  },
  {
   "cell_type": "code",
   "execution_count": 13,
   "id": "91fb14e4",
   "metadata": {},
   "outputs": [
    {
     "data": {
      "text/html": [
       "<h3>Compare MSE metric of patched Scikit-learn and original</h3>MSE metric of patched Scikit-learn: 0.7718408107757568 <br>MSE metric of unpatched Scikit-learn: 0.7716856598854065 <br>Metrics ratio: 1.0002011060714722 <br><h3>With Scikit-learn-intelex patching you can:</h3><ul><li>Use your Scikit-learn code for training and prediction with minimal changes (a couple of lines of code);</li><li>Fast execution training and prediction of Scikit-learn models;</li><li>Get the similar quality</li><li>Get speedup in <strong>12.6</strong> times.</li></ul>"
      ],
      "text/plain": [
       "<IPython.core.display.HTML object>"
      ]
     },
     "execution_count": 13,
     "metadata": {},
     "output_type": "execute_result"
    }
   ],
   "source": [
    "HTML(f\"<h3>Compare MSE metric of patched Scikit-learn and original</h3>\"\n",
    "     f\"MSE metric of patched Scikit-learn: {mse_metric_opt} <br>\"\n",
    "     f\"MSE metric of unpatched Scikit-learn: {mse_metric_original} <br>\"\n",
    "     f\"Metrics ratio: {mse_metric_opt/mse_metric_original} <br>\"\n",
    "     f\"<h3>With Scikit-learn-intelex patching you can:</h3>\"\n",
    "     f\"<ul>\"\n",
    "     f\"<li>Use your Scikit-learn code for training and prediction with minimal changes (a couple of lines of code);</li>\"\n",
    "     f\"<li>Fast execution training and prediction of Scikit-learn models;</li>\"\n",
    "     f\"<li>Get the similar quality</li>\"\n",
    "     f\"<li>Get speedup in <strong>{(train_unpatched/train_patched):.1f}</strong> times.</li>\"\n",
    "     f\"</ul>\")"
   ]
  },
  {
   "cell_type": "code",
   "execution_count": 19,
   "id": "57b29b43",
   "metadata": {},
   "outputs": [
    {
     "name": "stdout",
     "output_type": "stream",
     "text": [
      "[3853.6063806]\n"
     ]
    }
   ],
   "source": [
    "new_predict = model.predict([[51.85726,59.11655,26.39436,-5.4603,-20.69012,-19.95528,-6.72771,2.2959,10.31018,6.26597,-1.788,-6.19786,20.166,598.45275,1140.69539,721.49244,272.84841,564.0669,199.41547,189.04637,217.32042,137.1339,150.34608,98.21589,48.12644,-601.59295,10.58466,-83.35368,96.86756,69.40708,8.06033,-26.01693,-2.93173,26.18398,-12.2466,-14.52391,-121.61676,119.15632,-229.55722,38.53305,-9.97062,-39.45568,-32.91144,32.32695,-14.418,-37.88987,-85.41669,222.02357,-186.58755,-6.08163,1.78072,64.75548,24.55866,-1.12509,-13.58287,-99.66038,-124.73875,67.0263,33.05618,60.25818,28.00288,10.62425,-8.86772,78.13543,-181.10013,74.69489,57.45083,114.08816,-9.91322,7.53612,97.06395,233.17754,-100.68441,27.67012,-37.33008,-0.34676,-207.78766,116.75005,-91.82912,8.3502,-11.50511,-69.18291,60.58456,28.64599,-4.3962,-64.56491,-45.61012,-5.51512,32.35602,12.17352]])\n",
    "print(new_predict)"
   ]
  },
  {
   "cell_type": "code",
   "execution_count": null,
   "id": "44d3abaf",
   "metadata": {},
   "outputs": [],
   "source": []
  }
 ],
 "metadata": {
  "kernelspec": {
   "display_name": "Python 3 (ipykernel)",
   "language": "python",
   "name": "python3"
  },
  "language_info": {
   "codemirror_mode": {
    "name": "ipython",
    "version": 3
   },
   "file_extension": ".py",
   "mimetype": "text/x-python",
   "name": "python",
   "nbconvert_exporter": "python",
   "pygments_lexer": "ipython3",
   "version": "3.9.12"
  }
 },
 "nbformat": 4,
 "nbformat_minor": 5
}
