{
 "cells": [
  {
   "cell_type": "code",
   "execution_count": 26,
   "metadata": {},
   "outputs": [],
   "source": [
    "#Importing package numpy\n",
    "import numpy as np "
   ]
  },
  {
   "cell_type": "code",
   "execution_count": 34,
   "metadata": {},
   "outputs": [
    {
     "data": {
      "text/plain": [
       "array([[1, 2, 3, 4],\n",
       "       [5, 6, 7, 8]])"
      ]
     },
     "execution_count": 34,
     "metadata": {},
     "output_type": "execute_result"
    }
   ],
   "source": [
    "#Creating simple 1D array from a list\n",
    "arr = np.array([[1,2,3,4],[5,6,7,8]])\n",
    "arr"
   ]
  },
  {
   "cell_type": "code",
   "execution_count": 35,
   "metadata": {},
   "outputs": [
    {
     "name": "stdout",
     "output_type": "stream",
     "text": [
      "2\n",
      "(2, 4)\n",
      "8\n",
      "(32, 8)\n",
      "<class 'numpy.ndarray'>\n",
      "<memory at 0x7ff7e14763a8>\n"
     ]
    }
   ],
   "source": [
    "#Looking at different aspects of created array\n",
    "\n",
    "\n",
    "#dimenssions with ndim method\n",
    "print(arr.ndim)\n",
    "\n",
    "#shape of the array with shape method\n",
    "print(arr.shape)\n",
    "\n",
    "#size of the array or total number of elements with size method\n",
    "print(arr.size)\n",
    "\n",
    "#No of bytes needs to move for changing position with strides method\n",
    "print(arr.strides)\n",
    "\n",
    "#type of the python object with type()\n",
    "print(type(arr))\n",
    "\n",
    "#memory location of the array with data method\n",
    "print(arr.data)"
   ]
  },
  {
   "cell_type": "code",
   "execution_count": 37,
   "metadata": {},
   "outputs": [
    {
     "data": {
      "text/plain": [
       "array([1.4945, 1.5925, 1.5435, 1.6905, 1.715 , 1.7885, 1.666 , 1.568 ,\n",
       "       1.5435, 1.519 , 1.617 ])"
      ]
     },
     "execution_count": 37,
     "metadata": {},
     "output_type": "execute_result"
    }
   ],
   "source": [
    "#Broadcasting of array elements for arithmatics\n",
    "\n",
    "#Calculate BMI of cricket\n",
    "\n",
    "#Heights of the players in inches \n",
    "height_inches = [61,65,63,69,70,73,68,64,63,62,66]\n",
    "\n",
    "#Convert this to numpy array\n",
    "ht_np = np.array(height_inches)\n",
    "# ht_np\n",
    "#Convert height from inch to meters by exposing it to 0.0245\n",
    "ht_np = ht_np * 0.0245\n",
    "ht_np"
   ]
  },
  {
   "cell_type": "code",
   "execution_count": 39,
   "metadata": {},
   "outputs": [
    {
     "name": "stdout",
     "output_type": "stream",
     "text": [
      "[1, 2, 3, 4, 5, 1, 2, 3, 4, 5]\n",
      "[2, 4, 6, 8, 10]\n"
     ]
    }
   ],
   "source": [
    "l = [1,2,3,4,5]\n",
    "print(l * 2)\n",
    "l_m = [w*2 for w in l]\n",
    "print(l_m)"
   ]
  },
  {
   "cell_type": "code",
   "execution_count": 40,
   "metadata": {},
   "outputs": [
    {
     "data": {
      "text/plain": [
       "array([45.  , 90.  , 72.  , 81.  , 63.  , 69.75, 74.25, 77.4 , 81.  ,\n",
       "       90.  , 75.6 ])"
      ]
     },
     "execution_count": 40,
     "metadata": {},
     "output_type": "execute_result"
    }
   ],
   "source": [
    "#Weight of players in pounds\n",
    "weight_pounds = [100,200,160,180,140,155,165,172,180,200,168]\n",
    "\n",
    "#Convert this to numpy array\n",
    "wt_np = np.array(weight_pounds)\n",
    "\n",
    "#Convert height from pounds to kgs by exposing it to 0.45\n",
    "wt_np = wt_np * 0.45\n",
    "wt_np"
   ]
  },
  {
   "cell_type": "code",
   "execution_count": 41,
   "metadata": {},
   "outputs": [
    {
     "data": {
      "text/plain": [
       "array([20.1474773 , 35.48817184, 30.22172356, 28.3435777 , 21.41964658,\n",
       "       21.80551373, 26.75139684, 31.48102353, 33.99943901, 39.0055999 ,\n",
       "       28.91357251])"
      ]
     },
     "execution_count": 41,
     "metadata": {},
     "output_type": "execute_result"
    }
   ],
   "source": [
    "#BMI Calculation\n",
    "# formula - bmi = weight in kgs / (height in meters ** 2)\n",
    "bmi = wt_np / (ht_np ** 2)\n",
    "bmi"
   ]
  },
  {
   "cell_type": "code",
   "execution_count": 43,
   "metadata": {},
   "outputs": [
    {
     "data": {
      "text/plain": [
       "28.913572512830402"
      ]
     },
     "execution_count": 43,
     "metadata": {},
     "output_type": "execute_result"
    }
   ],
   "source": [
    "#Subsetting of arrays with index\n",
    "bmi[-1]"
   ]
  },
  {
   "cell_type": "code",
   "execution_count": 45,
   "metadata": {},
   "outputs": [
    {
     "data": {
      "text/plain": [
       "array([20.1474773])"
      ]
     },
     "execution_count": 45,
     "metadata": {},
     "output_type": "execute_result"
    }
   ],
   "source": [
    "#Boolean based subsetting - try to get players with BMI less than 21\n",
    "bmi[bmi < 21]"
   ]
  },
  {
   "cell_type": "code",
   "execution_count": 46,
   "metadata": {},
   "outputs": [
    {
     "data": {
      "text/plain": [
       "array([20.1474773 , 35.48817184, 30.22172356, 28.3435777 ])"
      ]
     },
     "execution_count": 46,
     "metadata": {},
     "output_type": "execute_result"
    }
   ],
   "source": [
    "#Slicing of arrays\n",
    "bmi[0:4]"
   ]
  },
  {
   "cell_type": "code",
   "execution_count": 50,
   "metadata": {},
   "outputs": [
    {
     "data": {
      "text/plain": [
       "array([[45.    , 90.    , 72.    , 81.    , 63.    , 69.75  , 74.25  ,\n",
       "        77.4   , 81.    , 90.    , 75.6   ],\n",
       "       [ 1.4945,  1.5925,  1.5435,  1.6905,  1.715 ,  1.7885,  1.666 ,\n",
       "         1.568 ,  1.5435,  1.519 ,  1.617 ]])"
      ]
     },
     "execution_count": 50,
     "metadata": {},
     "output_type": "execute_result"
    }
   ],
   "source": [
    "#Making 2D array with data from arrays we created for players where one row will be height and other will be weight\n",
    "players = np.array([wt_np,ht_np])\n",
    "players"
   ]
  },
  {
   "cell_type": "code",
   "execution_count": 51,
   "metadata": {},
   "outputs": [
    {
     "data": {
      "text/plain": [
       "(72.0, 1.5435)"
      ]
     },
     "execution_count": 51,
     "metadata": {},
     "output_type": "execute_result"
    }
   ],
   "source": [
    "#Looking at height and weight of the player at index 2\n",
    "players[0][2],players[1][2]"
   ]
  },
  {
   "cell_type": "code",
   "execution_count": 52,
   "metadata": {},
   "outputs": [
    {
     "data": {
      "text/plain": [
       "array([1.4945, 1.5925, 1.5435, 1.6905, 1.715 , 1.7885, 1.666 , 1.568 ,\n",
       "       1.5435, 1.519 , 1.617 ])"
      ]
     },
     "execution_count": 52,
     "metadata": {},
     "output_type": "execute_result"
    }
   ],
   "source": [
    "#Looking at height of all the players, fetching height\n",
    "players[1]"
   ]
  },
  {
   "cell_type": "code",
   "execution_count": 54,
   "metadata": {},
   "outputs": [
    {
     "data": {
      "text/plain": [
       "(11, 2)"
      ]
     },
     "execution_count": 54,
     "metadata": {},
     "output_type": "execute_result"
    }
   ],
   "source": [
    "#Transpose - lets transpose the array of players\n",
    "pT = players.transpose()\n",
    "pT.shape"
   ]
  },
  {
   "cell_type": "code",
   "execution_count": 55,
   "metadata": {},
   "outputs": [
    {
     "data": {
      "text/plain": [
       "array([[45.    , 90.    , 72.    , 81.    , 63.    , 69.75  , 74.25  ,\n",
       "        77.4   , 81.    , 90.    , 75.6   ],\n",
       "       [ 1.4945,  1.5925,  1.5435,  1.6905,  1.715 ,  1.7885,  1.666 ,\n",
       "         1.568 ,  1.5435,  1.519 ,  1.617 ]])"
      ]
     },
     "execution_count": 55,
     "metadata": {},
     "output_type": "execute_result"
    }
   ],
   "source": [
    "#Swap axes - Just like transpose but parameters needs to be defined explicitly - array and axes to be swapped\n",
    "pT = np.swapaxes(pT,0,1)\n",
    "pT"
   ]
  },
  {
   "cell_type": "code",
   "execution_count": 60,
   "metadata": {},
   "outputs": [
    {
     "name": "stdout",
     "output_type": "stream",
     "text": [
      "[[0.         1.         1.41421356 1.73205081 2.        ]\n",
      " [2.23606798 2.44948974 2.64575131 2.82842712 3.        ]]\n",
      "[[1.00000000e+00 2.71828183e+00 7.38905610e+00 2.00855369e+01\n",
      "  5.45981500e+01]\n",
      " [1.48413159e+02 4.03428793e+02 1.09663316e+03 2.98095799e+03\n",
      "  8.10308393e+03]]\n",
      "[[1.00000000e+00 2.71828183e+00 7.38905610e+00 2.00855369e+01\n",
      "  5.45981500e+01]\n",
      " [1.48413159e+02 4.03428793e+02 1.09663316e+03 2.98095799e+03\n",
      "  8.10308393e+03]]\n"
     ]
    }
   ],
   "source": [
    "#Universal functions\n",
    "\n",
    "#Unary functions\n",
    "\n",
    "#arange and reshape\n",
    "# arr1 = np.arange(10).reshape(2,5)\n",
    "# print(arr1)\n",
    "\n",
    "#square root function\n",
    "arr2 = np.sqrt(arr1)\n",
    "print(arr2)\n",
    "\n",
    "#Exponential function\n",
    "arr3 = np.exp(arr1)\n",
    "print(arr3)\n",
    "\n",
    "#Random number generator function\n",
    "# arr4 = np.random.randn(10)\n",
    "# print(arr4)\n",
    "\n",
    "#Binary Functions - check the maximum out of two arrays\n",
    "arr5 = np.maximum(arr2,arr3)\n",
    "print(arr5)"
   ]
  },
  {
   "cell_type": "code",
   "execution_count": 65,
   "metadata": {},
   "outputs": [
    {
     "name": "stdout",
     "output_type": "stream",
     "text": [
      "74.45454545454545\n",
      "75.60000000000001\n",
      "819.0\n",
      "12.082941667443528\n",
      "[[ 1.         -0.01706933]\n",
      " [-0.01706933  1.        ]]\n"
     ]
    }
   ],
   "source": [
    "#Mathematical and statistical functions\n",
    "\n",
    "#mean function - find out mean of the weight of the players\n",
    "print(np.mean(wt_np))\n",
    "\n",
    "#median function - find out median of the weight of the players\n",
    "print(np.median(wt_np))\n",
    "\n",
    "#Sum function - find out sum of the weight of the players\n",
    "print(np.sum(wt_np))\n",
    "\n",
    "#standard devaition - find out standard deviation of the weight of the players\n",
    "print(np.std(wt_np))\n",
    "\n",
    "#Correlation coefficient - find out correlation between weight and height of the players\n",
    "print(np.corrcoef(wt_np,ht_np))"
   ]
  },
  {
   "cell_type": "code",
   "execution_count": 68,
   "metadata": {},
   "outputs": [
    {
     "name": "stdout",
     "output_type": "stream",
     "text": [
      "2\n",
      "True\n",
      "False\n"
     ]
    }
   ],
   "source": [
    "#Methods for boolean arrays\n",
    "bools = [False,True,False,False,True]\n",
    "\n",
    "b = np.array(bools)\n",
    "\n",
    "#Sum method over boolean arrays\n",
    "print(b.sum())\n",
    "\n",
    "#any method\n",
    "print(b.any())\n",
    "\n",
    "#all method\n",
    "print(b.all())"
   ]
  },
  {
   "cell_type": "code",
   "execution_count": 70,
   "metadata": {},
   "outputs": [
    {
     "name": "stdout",
     "output_type": "stream",
     "text": [
      "[[ 1.14229697  0.40058666 -0.70672608 -2.20009951  1.62178552]\n",
      " [ 0.3731997  -1.85958397  2.92415332 -0.07687996 -0.34650894]]\n",
      "[[-2.20009951 -0.70672608  0.40058666  1.14229697  1.62178552]\n",
      " [-1.85958397 -0.34650894 -0.07687996  0.3731997   2.92415332]]\n"
     ]
    }
   ],
   "source": [
    "#Sort method\n",
    "\n",
    "arr = np.random.randn(10).reshape(2,5)\n",
    "print(arr)\n",
    "print(np.sort(arr))"
   ]
  },
  {
   "cell_type": "code",
   "execution_count": 71,
   "metadata": {},
   "outputs": [
    {
     "data": {
      "text/plain": [
       "array(['Bob', 'Joe', 'Will'], dtype='<U4')"
      ]
     },
     "execution_count": 71,
     "metadata": {},
     "output_type": "execute_result"
    }
   ],
   "source": [
    "#Unique Function\n",
    "names = np.array(['Bob', 'Joe', 'Will', 'Bob', 'Will', 'Joe', 'Joe'])\n",
    "np.unique(names)"
   ]
  },
  {
   "cell_type": "code",
   "execution_count": 75,
   "metadata": {},
   "outputs": [
    {
     "name": "stdout",
     "output_type": "stream",
     "text": [
      "[[0 1 2 3 4]\n",
      " [5 6 7 8 9]]\n",
      "[0 1 2 3 4 5 6 7 8 9]\n",
      "[1000    1    2    3    4    5    6    7    8    9]\n",
      "[[1000    1    2    3    4]\n",
      " [   5    6    7    8    9]]\n"
     ]
    }
   ],
   "source": [
    "#Ravel\n",
    "arr4 = np.arange(10).reshape(2,5)\n",
    "print(arr4)\n",
    "rav1 = arr4.ravel()\n",
    "print(rav1)\n",
    "rav1[0] = 1000\n",
    "print(rav1)\n",
    "print(arr4)"
   ]
  },
  {
   "cell_type": "code",
   "execution_count": 79,
   "metadata": {},
   "outputs": [
    {
     "name": "stdout",
     "output_type": "stream",
     "text": [
      "[[0 1 2 3 4]\n",
      " [5 6 7 8 9]]\n",
      "[0 1 2 3 4 5 6 7 8 9]\n",
      "[1000    1    2    3    4    5    6    7    8    9]\n",
      "[[0 1 2 3 4]\n",
      " [5 6 7 8 9]]\n"
     ]
    }
   ],
   "source": [
    "#Flatten\n",
    "arr4 = np.arange(10).reshape(2,5)\n",
    "print(arr4)\n",
    "fl1 = arr4.flatten()\n",
    "print(fl1)\n",
    "fl1[0] = 1000\n",
    "print(fl1)\n",
    "print(arr4)"
   ]
  },
  {
   "cell_type": "code",
   "execution_count": 22,
   "metadata": {},
   "outputs": [],
   "source": [
    "#Concatenation\n",
    "\n",
    "# ar1 = np.arange(10).reshape(2,5)\n",
    "# ar2 = np.arange(10).reshape(2,5)\n",
    "\n",
    "# print(np.concatenate([ar1,ar2], axis = 0))\n",
    "# print(np.concatenate([ar1,ar2], axis = 1))\n",
    "# print(np.vstack([ar1,ar2]))\n",
    "# print(np.hstack([ar1,ar2]))"
   ]
  },
  {
   "cell_type": "code",
   "execution_count": 23,
   "metadata": {},
   "outputs": [],
   "source": [
    "#Split\n",
    "# arr = np.random.randn(5, 2)\n",
    "# print(\"Original array.\")\n",
    "# print(arr)\n",
    "# print(\"\\n\")\n",
    "# first, second, third = np.split(arr, [1,3])\n",
    "# print(\"The first split\")\n",
    "# print(first)\n",
    "# print(\"\\n\")\n",
    "# print(\"The second split\")\n",
    "# print(second)\n",
    "# print(\"\\n\")\n",
    "# print(\"The third split\")\n",
    "# print(third)\n",
    "# print(\"\\n\")"
   ]
  },
  {
   "cell_type": "code",
   "execution_count": 24,
   "metadata": {},
   "outputs": [],
   "source": [
    "#Repeat\n",
    "# arr = np.arange(3)\n",
    "# print(arr)\n",
    "# print(\"\\n\")\n",
    "# print(arr.repeat(4))\n",
    "\n",
    "#We can pass list as argument for repeat\n",
    "# print(\"\\n\")\n",
    "# print(arr.repeat([2, 3, 4]))\n",
    "# print(\"\\n\")\n",
    "\n",
    "#We can specify axes to do the repeat\n",
    "# arr_2 = np.random.randn(2, 2)\n",
    "# print(arr_2)\n",
    "# print(\"\\n\")\n",
    "# print(arr_2.repeat(2, axis=1))\n",
    "# print(arr_2.repeat(2, axis=0))"
   ]
  },
  {
   "cell_type": "code",
   "execution_count": 25,
   "metadata": {},
   "outputs": [],
   "source": [
    "#Tile\n",
    "# print(np.tile(arr_2, 2)) #tiling at axis = 1 i.e. on columns\n",
    "# print(\"\\n\")\n",
    "# print(np.tile(arr_2, (2, 1))) #tiling on rows and columns \n",
    "# print(\"\\n\")\n",
    "# print(np.tile(arr_2, (3, 2))) #tiling on rows and columns "
   ]
  }
 ],
 "metadata": {
  "kernelspec": {
   "display_name": "Python 3 (ipykernel)",
   "language": "python",
   "name": "python3"
  },
  "language_info": {
   "codemirror_mode": {
    "name": "ipython",
    "version": 3
   },
   "file_extension": ".py",
   "mimetype": "text/x-python",
   "name": "python",
   "nbconvert_exporter": "python",
   "pygments_lexer": "ipython3",
   "version": "3.9.7"
  }
 },
 "nbformat": 4,
 "nbformat_minor": 4
}
