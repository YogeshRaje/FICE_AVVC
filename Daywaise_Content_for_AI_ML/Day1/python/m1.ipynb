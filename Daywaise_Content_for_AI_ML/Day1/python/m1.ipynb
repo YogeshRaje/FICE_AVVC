{
 "cells": [
  {
   "cell_type": "code",
   "execution_count": 7,
   "id": "d43905ee",
   "metadata": {},
   "outputs": [],
   "source": [
    "def fun1():\n",
    "    printf(\"This is function1\")\n",
    "    \n",
    "def addition(a,b):\n",
    "    return a+b\n",
    "val=20"
   ]
  },
  {
   "cell_type": "code",
   "execution_count": 5,
   "id": "3975a084",
   "metadata": {},
   "outputs": [
    {
     "data": {
      "text/plain": [
       "8"
      ]
     },
     "execution_count": 5,
     "metadata": {},
     "output_type": "execute_result"
    }
   ],
   "source": [
    "addition(1,7)"
   ]
  },
  {
   "cell_type": "code",
   "execution_count": null,
   "id": "748dd4d6",
   "metadata": {},
   "outputs": [],
   "source": []
  },
  {
   "cell_type": "code",
   "execution_count": 8,
   "id": "97892527",
   "metadata": {},
   "outputs": [
    {
     "data": {
      "text/plain": [
       "20"
      ]
     },
     "execution_count": 8,
     "metadata": {},
     "output_type": "execute_result"
    }
   ],
   "source": [
    "val"
   ]
  },
  {
   "cell_type": "code",
   "execution_count": null,
   "id": "3f94a686",
   "metadata": {},
   "outputs": [],
   "source": []
  }
 ],
 "metadata": {
  "kernelspec": {
   "display_name": "Python 3 (ipykernel)",
   "language": "python",
   "name": "python3"
  },
  "language_info": {
   "codemirror_mode": {
    "name": "ipython",
    "version": 3
   },
   "file_extension": ".py",
   "mimetype": "text/x-python",
   "name": "python",
   "nbconvert_exporter": "python",
   "pygments_lexer": "ipython3",
   "version": "3.9.12"
  }
 },
 "nbformat": 4,
 "nbformat_minor": 5
}
