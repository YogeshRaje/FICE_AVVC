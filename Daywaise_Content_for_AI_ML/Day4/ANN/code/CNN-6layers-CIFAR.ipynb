{
 "cells": [
  {
   "cell_type": "code",
   "execution_count": 1,
   "id": "3a0e9c40",
   "metadata": {},
   "outputs": [],
   "source": [
    "#This code creates a 6-layer convolutional neural network for the CIFAR dataset. The input layer has a shape of (32, 32, 3), which corresponds to the dimensions of the images in the CIFAR dataset. Each layer has a convolutional layer followed by a max pooling layer. The final layer is a dense layer with 10 units and a softmax activation, which corresponds to the 10 classes in the CIFAR dataset. The model is then compiled with the Adam optimizer, categorical crossentropy loss, and accuracy as the metric.\n",
    "\n",
    "import tensorflow as tf\n",
    "from tensorflow import keras\n",
    "from tensorflow.keras import layers\n",
    "\n",
    "# Input layer\n",
    "input_layer = keras.Input(shape=(32, 32, 3))\n",
    "\n",
    "# Layer 1\n",
    "layer_1 = layers.Conv2D(32, (3, 3), padding='same', activation='relu')(input_layer)\n",
    "layer_1 = layers.MaxPooling2D((2, 2))(layer_1)\n",
    "\n",
    "# Layer 2\n",
    "layer_2 = layers.Conv2D(64, (3, 3), padding='same', activation='relu')(layer_1)\n",
    "layer_2 = layers.MaxPooling2D((2, 2))(layer_2)\n",
    "\n",
    "# Layer 3\n",
    "layer_3 = layers.Conv2D(128, (3, 3), padding='same', activation='relu')(layer_2)\n",
    "layer_3 = layers.MaxPooling2D((2, 2))(layer_3)\n",
    "\n",
    "# Layer 4\n",
    "layer_4 = layers.Conv2D(256, (3, 3), padding='same', activation='relu')(layer_3)\n",
    "layer_4 = layers.MaxPooling2D((2, 2))(layer_4)\n",
    "\n",
    "# Layer 5\n",
    "layer_5 = layers.Conv2D(512, (3, 3), padding='same', activation='relu')(layer_4)\n",
    "layer_5 = layers.MaxPooling2D((2, 2))(layer_5)\n",
    "\n",
    "# Layer 6\n",
    "layer_6 = layers.Flatten()(layer_5)\n",
    "layer_6 = layers.Dense(10, activation='softmax')(layer_6)\n",
    "\n",
    "# Create the model\n",
    "model = keras.Model(inputs=input_layer, outputs=layer_6)\n",
    "\n",
    "# Compile the model\n",
    "model.compile(optimizer='adam', loss='categorical_crossentropy', metrics=['accuracy'])\n",
    "\n"
   ]
  },
  {
   "cell_type": "code",
   "execution_count": null,
   "id": "523a13b9",
   "metadata": {},
   "outputs": [],
   "source": []
  }
 ],
 "metadata": {
  "kernelspec": {
   "display_name": "Python 3 (ipykernel)",
   "language": "python",
   "name": "python3"
  },
  "language_info": {
   "codemirror_mode": {
    "name": "ipython",
    "version": 3
   },
   "file_extension": ".py",
   "mimetype": "text/x-python",
   "name": "python",
   "nbconvert_exporter": "python",
   "pygments_lexer": "ipython3",
   "version": "3.9.12"
  }
 },
 "nbformat": 4,
 "nbformat_minor": 5
}
