{
 "cells": [
  {
   "cell_type": "code",
   "execution_count": 1,
   "id": "9d5cd136",
   "metadata": {},
   "outputs": [
    {
     "name": "stdout",
     "output_type": "stream",
     "text": [
      "Intercept:  -1.7763568394002505e-15\n",
      "Slope:  2.0000000000000004\n",
      "Predicted y for x = 6:  12.000000000000002\n"
     ]
    }
   ],
   "source": [
    "from sklearn.linear_model import LinearRegression\n",
    "import numpy as np\n",
    "\n",
    "# Input data\n",
    "x = np.array([1, 2, 3, 4, 5]) # independent variable\n",
    "y = np.array([2, 4, 6, 8, 10]) # dependent variable\n",
    "\n",
    "# Create linear regression model\n",
    "model = LinearRegression()\n",
    "\n",
    "# Fit model with input data\n",
    "model.fit(x.reshape(-1, 1), y)\n",
    "\n",
    "# Print coefficients\n",
    "print(\"Intercept: \", model.intercept_)\n",
    "print(\"Slope: \", model.coef_[0])\n",
    "\n",
    "# Predict y for new x value\n",
    "x_new = 6\n",
    "y_pred = model.predict(np.array([x_new]).reshape(-1, 1))\n",
    "print(\"Predicted y for x = 6: \", y_pred[0])\n"
   ]
  },
  {
   "cell_type": "code",
   "execution_count": null,
   "id": "5984dc69",
   "metadata": {},
   "outputs": [],
   "source": []
  }
 ],
 "metadata": {
  "kernelspec": {
   "display_name": "Python 3 (ipykernel)",
   "language": "python",
   "name": "python3"
  },
  "language_info": {
   "codemirror_mode": {
    "name": "ipython",
    "version": 3
   },
   "file_extension": ".py",
   "mimetype": "text/x-python",
   "name": "python",
   "nbconvert_exporter": "python",
   "pygments_lexer": "ipython3",
   "version": "3.9.12"
  }
 },
 "nbformat": 4,
 "nbformat_minor": 5
}
