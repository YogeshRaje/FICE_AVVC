{
 "cells": [
  {
   "cell_type": "code",
   "execution_count": 1,
   "id": "90c65554",
   "metadata": {},
   "outputs": [
    {
     "name": "stdout",
     "output_type": "stream",
     "text": [
      "Epoch 1/10\n",
      "1563/1563 [==============================] - 31s 15ms/step - loss: 1.9115 - accuracy: 0.3069\n",
      "Epoch 2/10\n",
      "1563/1563 [==============================] - 24s 16ms/step - loss: 1.7608 - accuracy: 0.3682\n",
      "Epoch 3/10\n",
      "1563/1563 [==============================] - 22s 14ms/step - loss: 1.7120 - accuracy: 0.3891\n",
      "Epoch 4/10\n",
      "1563/1563 [==============================] - 22s 14ms/step - loss: 1.6864 - accuracy: 0.3988\n",
      "Epoch 5/10\n",
      "1563/1563 [==============================] - 22s 14ms/step - loss: 1.6670 - accuracy: 0.4058\n",
      "Epoch 6/10\n",
      "1563/1563 [==============================] - 21s 14ms/step - loss: 1.6489 - accuracy: 0.4129\n",
      "Epoch 7/10\n",
      "1563/1563 [==============================] - 22s 14ms/step - loss: 1.6423 - accuracy: 0.4155\n",
      "Epoch 8/10\n",
      "1563/1563 [==============================] - 21s 13ms/step - loss: 1.6270 - accuracy: 0.4189\n",
      "Epoch 9/10\n",
      "1563/1563 [==============================] - 23s 15ms/step - loss: 1.6207 - accuracy: 0.4217\n",
      "Epoch 10/10\n",
      "1563/1563 [==============================] - 24s 15ms/step - loss: 1.6092 - accuracy: 0.4262\n",
      "313/313 [==============================] - 5s 9ms/step - loss: 1.6471 - accuracy: 0.4092\n",
      "Test accuracy: 0.4092000126838684\n"
     ]
    }
   ],
   "source": [
    "#ANN - Shallow NN CIFAR-10\n",
    "#This code creates a shallow neural network with 2 layers (flatten and dense) using the CIFAR-10 dataset. The data is first normalized by dividing by 255, and the model is then trained and evaluated using the Adam optimizer, sparse categorical cross-entropy loss, and accuracy as the evaluation metric. The final output is the test accuracy of the model.\n",
    "\n",
    "import tensorflow as tf\n",
    "from tensorflow import keras\n",
    "from keras.datasets import cifar10\n",
    "\n",
    "# load the data\n",
    "(x_train, y_train), (x_test, y_test) = cifar10.load_data()\n",
    "\n",
    "# normalize the data\n",
    "x_train = x_train / 255.0\n",
    "x_test = x_test / 255.0\n",
    "\n",
    "# create a shallow neural network with 2 layers\n",
    "model = keras.Sequential()\n",
    "model.add(keras.layers.Flatten())\n",
    "model.add(keras.layers.Dense(128, activation='relu'))\n",
    "model.add(keras.layers.Dense(10, activation='softmax'))\n",
    "\n",
    "# compile the model\n",
    "model.compile(optimizer='adam', loss='sparse_categorical_crossentropy', metrics=['accuracy'])\n",
    "\n",
    "# train the model\n",
    "model.fit(x_train, y_train, epochs=10)\n",
    "\n",
    "# evaluate the model\n",
    "test_loss, test_acc = model.evaluate(x_test, y_test)\n",
    "print('Test accuracy:', test_acc)\n"
   ]
  },
  {
   "cell_type": "code",
   "execution_count": null,
   "id": "55e11a43",
   "metadata": {},
   "outputs": [],
   "source": []
  }
 ],
 "metadata": {
  "kernelspec": {
   "display_name": "Python 3 (ipykernel)",
   "language": "python",
   "name": "python3"
  },
  "language_info": {
   "codemirror_mode": {
    "name": "ipython",
    "version": 3
   },
   "file_extension": ".py",
   "mimetype": "text/x-python",
   "name": "python",
   "nbconvert_exporter": "python",
   "pygments_lexer": "ipython3",
   "version": "3.9.12"
  }
 },
 "nbformat": 4,
 "nbformat_minor": 5
}
