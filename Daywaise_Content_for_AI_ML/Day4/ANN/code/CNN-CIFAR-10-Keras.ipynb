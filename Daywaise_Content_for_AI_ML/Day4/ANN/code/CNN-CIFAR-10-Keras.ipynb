{
 "cells": [
  {
   "cell_type": "code",
   "execution_count": 1,
   "id": "b7434821",
   "metadata": {},
   "outputs": [
    {
     "name": "stdout",
     "output_type": "stream",
     "text": [
      "Epoch 1/10\n",
      "1563/1563 [==============================] - 122s 77ms/step - loss: 1.3993 - accuracy: 0.4965\n",
      "Epoch 2/10\n",
      "1563/1563 [==============================] - 112s 72ms/step - loss: 1.0552 - accuracy: 0.6321\n",
      "Epoch 3/10\n",
      "1563/1563 [==============================] - 101s 65ms/step - loss: 0.9078 - accuracy: 0.6780\n",
      "Epoch 4/10\n",
      "1563/1563 [==============================] - 215s 137ms/step - loss: 0.8025 - accuracy: 0.7195\n",
      "Epoch 5/10\n",
      "1563/1563 [==============================] - 167s 107ms/step - loss: 0.7099 - accuracy: 0.7526\n",
      "Epoch 6/10\n",
      "1563/1563 [==============================] - 112s 71ms/step - loss: 0.6279 - accuracy: 0.7831\n",
      "Epoch 7/10\n",
      "1563/1563 [==============================] - 111s 71ms/step - loss: 0.5464 - accuracy: 0.8082\n",
      "Epoch 8/10\n",
      "1563/1563 [==============================] - 109s 70ms/step - loss: 0.4795 - accuracy: 0.8312\n",
      "Epoch 9/10\n",
      "1563/1563 [==============================] - 100s 64ms/step - loss: 0.4168 - accuracy: 0.8526\n",
      "Epoch 10/10\n",
      "1563/1563 [==============================] - 107s 68ms/step - loss: 0.3684 - accuracy: 0.8686\n",
      "313/313 [==============================] - 7s 17ms/step - loss: 0.9003 - accuracy: 0.7333\n",
      "Test accuracy: 0.733299970626831\n"
     ]
    }
   ],
   "source": [
    "#example of deep learning code for the CIFAR-10 dataset in Python using the Keras library:\n",
    "from keras.datasets import cifar10\n",
    "from keras.models import Sequential\n",
    "from keras.layers import Dense, Dropout, Flatten, Conv2D, MaxPooling2D\n",
    "from keras.utils import to_categorical\n",
    "\n",
    "# Load the CIFAR-10 dataset\n",
    "(x_train, y_train), (x_test, y_test) = cifar10.load_data()\n",
    "\n",
    "# Preprocess the data\n",
    "x_train = x_train.astype('float32') / 255.0\n",
    "x_test = x_test.astype('float32') / 255.0\n",
    "y_train = to_categorical(y_train, 10)\n",
    "y_test = to_categorical(y_test, 10)\n",
    "\n",
    "# Define the model\n",
    "model = Sequential()\n",
    "model.add(Conv2D(32, (3, 3), activation='relu', input_shape=(32, 32, 3)))\n",
    "model.add(MaxPooling2D(pool_size=(2, 2)))\n",
    "model.add(Conv2D(64, (3, 3), activation='relu'))\n",
    "model.add(MaxPooling2D(pool_size=(2, 2)))\n",
    "model.add(Flatten())\n",
    "model.add(Dense(1024, activation='relu'))\n",
    "model.add(Dropout(0.5))\n",
    "model.add(Dense(10, activation='softmax'))\n",
    "\n",
    "# Compile the model\n",
    "model.compile(optimizer='adam', loss='categorical_crossentropy', metrics=['accuracy'])\n",
    "\n",
    "# Train the model\n",
    "model.fit(x_train, y_train, epochs=10, batch_size=32)\n",
    "\n",
    "# Evaluate the model on the test set\n",
    "test_loss, test_acc = model.evaluate(x_test, y_test)\n",
    "print('Test accuracy:', test_acc)\n"
   ]
  },
  {
   "cell_type": "code",
   "execution_count": null,
   "id": "f70e11c5",
   "metadata": {},
   "outputs": [],
   "source": []
  }
 ],
 "metadata": {
  "kernelspec": {
   "display_name": "Python 3 (ipykernel)",
   "language": "python",
   "name": "python3"
  },
  "language_info": {
   "codemirror_mode": {
    "name": "ipython",
    "version": 3
   },
   "file_extension": ".py",
   "mimetype": "text/x-python",
   "name": "python",
   "nbconvert_exporter": "python",
   "pygments_lexer": "ipython3",
   "version": "3.9.12"
  }
 },
 "nbformat": 4,
 "nbformat_minor": 5
}
