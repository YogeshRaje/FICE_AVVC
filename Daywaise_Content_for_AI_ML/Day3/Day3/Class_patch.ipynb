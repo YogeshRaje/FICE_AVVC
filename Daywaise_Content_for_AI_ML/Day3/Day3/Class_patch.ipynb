{
 "cells": [
  {
   "cell_type": "code",
   "execution_count": 6,
   "id": "cd949e3f-fa8d-4945-a12e-f28eebe30ecd",
   "metadata": {},
   "outputs": [
    {
     "name": "stdout",
     "output_type": "stream",
     "text": [
      "\n",
      "Acuuracy\n",
      " 0.9333333333333333\n",
      "\n",
      "Confusion Matrix\n",
      " [[10  0  0]\n",
      " [ 0 12  1]\n",
      " [ 0  1  6]]\n",
      "\n",
      "Classification Report\n",
      "                  precision    recall  f1-score   support\n",
      "\n",
      "    Iris-setosa       1.00      1.00      1.00        10\n",
      "Iris-versicolor       0.92      0.92      0.92        13\n",
      " Iris-virginica       0.86      0.86      0.86         7\n",
      "\n",
      "       accuracy                           0.93        30\n",
      "      macro avg       0.93      0.93      0.93        30\n",
      "   weighted avg       0.93      0.93      0.93        30\n",
      "\n",
      "Execution_time: 0.024995803833007812\n"
     ]
    },
    {
     "name": "stderr",
     "output_type": "stream",
     "text": [
      "Intel(R) Extension for Scikit-learn* enabled (https://github.com/intel/scikit-learn-intelex)\n"
     ]
    }
   ],
   "source": [
    "import pandas as pd\n",
    "from sklearnex import patch_sklearn ;patch_sklearn()\n",
    "from sklearn import model_selection\n",
    "from sklearn.metrics import accuracy_score\n",
    "from sklearn.metrics import confusion_matrix\n",
    "from sklearn.metrics import classification_report\n",
    "from sklearn.svm import SVC\n",
    "#from sklearn.tree import DecisionTreeClassifier\n",
    "from sklearn.model_selection import train_test_split\n",
    "import time\n",
    "dataset=pd.read_csv('Iris.csv')\n",
    "array = dataset.values\n",
    "X = array[:,1:4]\n",
    "Y = array[:, 5]\n",
    "test_train_split_size = 0.20\n",
    "seed =10\n",
    "X_train, X_test, Y_train, Y_test = train_test_split(X, Y, test_size=0.2, random_state=seed)\n",
    "t0=time.time()  \n",
    "dt = SVC()\n",
    "#dt = DecisionTreeClassifier(max_depth=6, random_state=seed)\n",
    "      # Performing training\n",
    "dt.fit(X_train, Y_train)\n",
    "predictions = dt.predict(X_test)\n",
    "Accuracy = accuracy_score(Y_test, predictions)\n",
    "print(\"\\nAcuuracy\\n\", Accuracy)\n",
    "Classification_Report = classification_report(Y_test, predictions)\n",
    "Confusion_Matrix = confusion_matrix(Y_test, predictions)\n",
    "print(\"\\nConfusion Matrix\\n\", Confusion_Matrix)\n",
    "print(\"\\nClassification Report\\n\", Classification_Report)\n",
    "p_time=time.time()-t0\n",
    "print(\"Execution_time:\", p_time)"
   ]
  },
  {
   "cell_type": "code",
   "execution_count": null,
   "id": "2c476e68-deb8-4467-8fe7-b903da2ea5b1",
   "metadata": {},
   "outputs": [],
   "source": []
  },
  {
   "cell_type": "code",
   "execution_count": null,
   "id": "8e0f4b6b-7575-482d-847f-04cc58f81cb8",
   "metadata": {},
   "outputs": [],
   "source": []
  },
  {
   "cell_type": "code",
   "execution_count": null,
   "id": "2d715ae9-7852-40e0-946e-d766903ca461",
   "metadata": {},
   "outputs": [],
   "source": []
  },
  {
   "cell_type": "code",
   "execution_count": null,
   "id": "451bc77a-4338-4d03-9395-d6c866188cf3",
   "metadata": {},
   "outputs": [],
   "source": []
  }
 ],
 "metadata": {
  "kernelspec": {
   "display_name": "Python 3 (ipykernel)",
   "language": "python",
   "name": "python3"
  },
  "language_info": {
   "codemirror_mode": {
    "name": "ipython",
    "version": 3
   },
   "file_extension": ".py",
   "mimetype": "text/x-python",
   "name": "python",
   "nbconvert_exporter": "python",
   "pygments_lexer": "ipython3",
   "version": "3.9.12"
  }
 },
 "nbformat": 4,
 "nbformat_minor": 5
}
