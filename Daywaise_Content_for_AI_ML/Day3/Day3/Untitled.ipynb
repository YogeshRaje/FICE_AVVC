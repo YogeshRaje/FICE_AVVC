{
 "cells": [
  {
   "cell_type": "code",
   "execution_count": 1,
   "id": "bb92c9b2",
   "metadata": {},
   "outputs": [],
   "source": [
    "# Problem statement : Iris Flower \n",
    "# Dataset : \n"
   ]
  },
  {
   "cell_type": "code",
   "execution_count": null,
   "id": "f31a9314",
   "metadata": {},
   "outputs": [],
   "source": [
    "#import libaries \n",
    "\n",
    "# dataset read \n",
    "\n",
    "# X, y \n",
    "\n",
    "# split data for training and testing \n",
    "\n",
    "# use classifier (DecisonTree , RandomForest , SVC , KNN )\n",
    "\n",
    "# train model \n",
    "# test model \n",
    "# print accouracy and classification report \n",
    "\n",
    "\n",
    "\n",
    "\n",
    "\n"
   ]
  }
 ],
 "metadata": {
  "kernelspec": {
   "display_name": "Python 3 (ipykernel)",
   "language": "python",
   "name": "python3"
  },
  "language_info": {
   "codemirror_mode": {
    "name": "ipython",
    "version": 3
   },
   "file_extension": ".py",
   "mimetype": "text/x-python",
   "name": "python",
   "nbconvert_exporter": "python",
   "pygments_lexer": "ipython3",
   "version": "3.9.12"
  }
 },
 "nbformat": 4,
 "nbformat_minor": 5
}
